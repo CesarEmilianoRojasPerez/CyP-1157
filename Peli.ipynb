{
  "nbformat": 4,
  "nbformat_minor": 0,
  "metadata": {
    "colab": {
      "name": "Peli.ipynb",
      "provenance": [],
      "authorship_tag": "ABX9TyMmFK162QdYdyJtk+FG3sR7",
      "include_colab_link": true
    },
    "kernelspec": {
      "name": "python3",
      "display_name": "Python 3"
    },
    "language_info": {
      "name": "python"
    }
  },
  "cells": [
    {
      "cell_type": "markdown",
      "metadata": {
        "id": "view-in-github",
        "colab_type": "text"
      },
      "source": [
        "<a href=\"https://colab.research.google.com/github/CesarEmilianoRojasPerez/CyP-1157/blob/main/Peli.ipynb\" target=\"_parent\"><img src=\"https://colab.research.google.com/assets/colab-badge.svg\" alt=\"Open In Colab\"/></a>"
      ]
    },
    {
      "cell_type": "code",
      "metadata": {
        "id": "Bjqp3Wl3JB8-"
      },
      "source": [
        "peli={\"pelicula\":\"Harry Potter\",\n",
        "      \"personajes\":{\n",
        "          \"per_1\":{\n",
        "              \"nombre\":\"Harry\"\n",
        "              \"apellido\":\"Potter\"\n",
        "              \"casa_howards\":\"Griffindor\"\n",
        "          }\n",
        "          \"per_2\":{\n",
        "              \"nombre\":\"Hermione\"\n",
        "              \"apellido\":\"Graner\"\n",
        "              \"casa_howards\":\"Griffindor\"\n",
        "          }\n",
        "          \"per_3\":{\n",
        "              \"nombre\":\n",
        "              \"apellido\":\n",
        "              \"casa_howards\":\"Griffindor\"\n",
        "          }\n",
        "        \"saga\":{\n",
        "            \"peli_1\":\"La piedra filosofal\"\n",
        "            \"peli_2\":\"La camara secreta\"\n",
        "            \"peli_3\":\"El prisonero de azkaban\"\n",
        "            \"peli_4\":\"El caliz de fuego\"\n",
        "\n",
        "        }\n",
        "      }"
      ],
      "execution_count": null,
      "outputs": []
    }
  ]
}