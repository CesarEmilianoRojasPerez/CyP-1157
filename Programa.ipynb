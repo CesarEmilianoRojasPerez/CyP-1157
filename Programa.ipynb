{
  "nbformat": 4,
  "nbformat_minor": 0,
  "metadata": {
    "colab": {
      "name": "Programa.ipynb",
      "provenance": [],
      "collapsed_sections": [],
      "authorship_tag": "ABX9TyOzYh2DbjnKFxhQ2/MpozMS",
      "include_colab_link": true
    },
    "kernelspec": {
      "name": "python3",
      "display_name": "Python 3"
    },
    "language_info": {
      "name": "python"
    }
  },
  "cells": [
    {
      "cell_type": "markdown",
      "metadata": {
        "id": "view-in-github",
        "colab_type": "text"
      },
      "source": [
        "<a href=\"https://colab.research.google.com/github/CesarEmilianoRojasPerez/CyP-1157/blob/main/Programa.ipynb\" target=\"_parent\"><img src=\"https://colab.research.google.com/assets/colab-badge.svg\" alt=\"Open In Colab\"/></a>"
      ]
    },
    {
      "cell_type": "code",
      "metadata": {
        "colab": {
          "base_uri": "https://localhost:8080/"
        },
        "id": "i0QzuKsE5Rqw",
        "outputId": "a7fc9e19-68c0-4455-8679-4a8c22502cbc"
      },
      "source": [
        "a=int(input(\"Dame un valor: \"))\n",
        "b=int(input(\"Dame otro valor: \"))\n",
        "c=int(input(\"Dame otro valor: \"))\n",
        "if a==b or a==c or b==c:\n",
        "    print(\"Los numeros son iguales. Intenta de nuevo\")\n",
        "else:\n",
        "    if a>b:\n",
        "        if a>c:\n",
        "            if b>c:\n",
        "                print(f\"{a}, {b}, {c}\")\n",
        "            else:\n",
        "                print(f\"{a}, {c}, {b}\")\n",
        "        else:\n",
        "            print(f\"{c}, {a}, {b}\")\n",
        "    else:\n",
        "        if b>c:\n",
        "            if a>c:\n",
        "                print(f\"{b}, {a}, {c}\")\n",
        "            else:\n",
        "                print(f\"{b}, {c}, {a}\")\n",
        "        else:\n",
        "            print(f\"{c}, {b}, {a}\")"
      ],
      "execution_count": null,
      "outputs": [
        {
          "output_type": "stream",
          "name": "stdout",
          "text": [
            "Dame un valor: 25\n",
            "Dame otro valor: 24\n",
            "Dame otro valor: 014\n",
            "25, 24, 14\n"
          ]
        }
      ]
    }
  ]
}