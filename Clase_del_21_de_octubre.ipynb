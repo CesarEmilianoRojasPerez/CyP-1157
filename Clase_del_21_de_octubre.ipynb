{
  "nbformat": 4,
  "nbformat_minor": 0,
  "metadata": {
    "colab": {
      "name": "Clase del 21 de octubre.ipynb",
      "provenance": [],
      "collapsed_sections": [],
      "authorship_tag": "ABX9TyNx0CieaLLFUD47Lp8DxsNx",
      "include_colab_link": true
    },
    "kernelspec": {
      "name": "python3",
      "display_name": "Python 3"
    },
    "language_info": {
      "name": "python"
    }
  },
  "cells": [
    {
      "cell_type": "markdown",
      "metadata": {
        "id": "view-in-github",
        "colab_type": "text"
      },
      "source": [
        "<a href=\"https://colab.research.google.com/github/CesarEmilianoRojasPerez/CyP-1157/blob/main/Clase_del_21_de_octubre.ipynb\" target=\"_parent\"><img src=\"https://colab.research.google.com/assets/colab-badge.svg\" alt=\"Open In Colab\"/></a>"
      ]
    },
    {
      "cell_type": "code",
      "metadata": {
        "colab": {
          "base_uri": "https://localhost:8080/"
        },
        "id": "IKzSGxysCpIl",
        "outputId": "66c05844-734c-4e6b-feda-bd069d175c97"
      },
      "source": [
        "print(\"\\u0065\")\n",
        "print(\"\\u0444\")\n",
        "print(\"\\u0620\")\n",
        "\n",
        "print(\"\\U00010057\")\n",
        "print(\"\\U0001F920\")\n",
        "print(\"\\U0001F9A0\")"
      ],
      "execution_count": 1,
      "outputs": [
        {
          "output_type": "stream",
          "name": "stdout",
          "text": [
            "e\n",
            "ф\n",
            "ؠ\n",
            "𐁗\n",
            "🤠\n",
            "🦠\n"
          ]
        }
      ]
    },
    {
      "cell_type": "markdown",
      "metadata": {
        "id": "IaLab_4JyGsd"
      },
      "source": [
        "# Función print\n",
        "\n",
        "### Se emplea para desplegar información en la salida estandar. Normalmente un monitor.\n",
        "\n",
        "- Formas de usar print\n",
        "- El argumento por defecto de print (end)\n",
        "- Format ()\n",
        "- Operador f\" \""
      ]
    },
    {
      "cell_type": "code",
      "metadata": {
        "colab": {
          "base_uri": "https://localhost:8080/"
        },
        "id": "0gx6XhfUywM-",
        "outputId": "5e54c70c-9b91-4c49-a861-311cd0ce7981"
      },
      "source": [
        "nombre = \"Jose\"\n",
        "edad = 18\n",
        "casado = False\n",
        "estatura = 1.67\n",
        "\n",
        "\"\"\"\n",
        "Nombre: Jose\n",
        "   Edad: 18\n",
        "   Esta casado: False\n",
        "   Estatura en metros : 1.67\n",
        "\"\"\"\n",
        "# 1.- con comas .- concatena haciendo un casting ( convescion a string automatico)\n",
        "#agrega un espacio\n",
        "print( nombre,edad,casado,estatura )\n",
        "print(\"Nombre: \" + nombre + \"\\n\\tEdad: \"+ str(edad) + \"\\n\\tEsta casado: \" +str(casado)+\"\\n\\tEstatura en metros: \"+ str(estatura))\n",
        "\n",
        "# 2.- con el simbolo de \"+\"\n",
        "#Concatenación en crudo\n",
        "print( nombre + \" \" + str(edad) + \" \"  + str(casado) + \" \" + str(estatura) )\n",
        "\n",
        "# 3.- dando formato a la salida con format\n",
        "print(\"\\nCon la función format()\")\n",
        "print(\"Nombre: {3}\\n\\tEdad: {2}\\n\\tEsta casado: {1}\\n\\tEstatura en metros: {0}\".format(nombre, edad, casado, estatura))\n",
        "\n",
        "# 4.- con el operador f\" \"\n",
        "print(\"\\nCon el operador f\\\" \\\"\")\n",
        "print(f\"Nombre: {nombre}\\n\\tEdad: {edad}\\n\\tEsta casado: {casado}\\n\\tEstatura en metros: {estatura}\")\n",
        "\n",
        "\n",
        "#Como manejar el argumento end\n",
        "print(\"\\n\\tComo usar el argumento end\")\n",
        "print(f\"Hola {nombre}\", end=\"\")\n",
        "print(\", Como estas?\", end=\"\\n\")\n"
      ],
      "execution_count": null,
      "outputs": [
        {
          "output_type": "stream",
          "name": "stdout",
          "text": [
            "Jose 18 False 1.67\n",
            "Nombre: Jose\n",
            "\tEdad: 18\n",
            "\tEsta casado: False\n",
            "\tEstatura en metros: 1.67\n",
            "Jose 18 False 1.67\n",
            "\n",
            "Con la función format()\n",
            "Nombre: 1.67\n",
            "\tEdad: False\n",
            "\tEsta casado: 18\n",
            "\tEstatura en metros: Jose\n",
            "\n",
            "Con el operador f\" \"\n",
            "Nombre: Jose\n",
            "\tEdad: 18\n",
            "\tEsta casado: False\n",
            "\tEstatura en metros: 1.67\n",
            "\n",
            "\tComo usar el argumento end\n",
            "Hola Jose, Como estas?\n"
          ]
        }
      ]
    }
  ]
}