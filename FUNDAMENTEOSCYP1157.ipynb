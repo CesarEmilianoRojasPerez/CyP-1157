{
  "nbformat": 4,
  "nbformat_minor": 0,
  "metadata": {
    "colab": {
      "name": "FUNDAMENTEOSCYP1157.ipynb",
      "provenance": [],
      "authorship_tag": "ABX9TyOsUzWcajHxCSxaOcUeDoYD",
      "include_colab_link": true
    },
    "kernelspec": {
      "name": "python3",
      "display_name": "Python 3"
    },
    "language_info": {
      "name": "python"
    }
  },
  "cells": [
    {
      "cell_type": "markdown",
      "metadata": {
        "id": "view-in-github",
        "colab_type": "text"
      },
      "source": [
        "<a href=\"https://colab.research.google.com/github/CesarEmilianoRojasPerez/CyP-1157/blob/main/FUNDAMENTEOSCYP1157.ipynb\" target=\"_parent\"><img src=\"https://colab.research.google.com/assets/colab-badge.svg\" alt=\"Open In Colab\"/></a>"
      ]
    },
    {
      "cell_type": "code",
      "metadata": {
        "id": "kclOnaJ5VdVA"
      },
      "source": [
        "nombre = 'José' # Tipo de dat String (cadena de caracteres)\n",
        "\n",
        "print( nombre )"
      ],
      "execution_count": null,
      "outputs": []
    },
    {
      "cell_type": "markdown",
      "metadata": {
        "id": "dkxAJZ4BXHYe"
      },
      "source": [
        "# Tipos de dato en Python\n",
        "\n",
        "### Tipos simples\n",
        "- str ---> String cadena de caracteres\n",
        "- int ---> Numeros enteros\n",
        "- float ---> Numeros con notación de punto flotante\n",
        "- complex ---> Numeros complejos\n",
        "- bool ---> Boleano (True o Fals)\n",
        "- byte ---> 8 bits\n",
        "\n",
        "### Tipos de datos estructurados (compuestos)\n",
        "\n",
        "- list ---> Listas (Arreglos en otros leng)\n",
        "- tuple ---> Listas no mutables\n",
        "- dict ---> Diccionarios\n",
        "- set y frozenset ---> Conjuntos"
      ]
    },
    {
      "cell_type": "code",
      "metadata": {
        "colab": {
          "base_uri": "https://localhost:8080/"
        },
        "id": "KkUJ6jtIaf4T",
        "outputId": "50c1a964-3aeb-49df-d627-06051dd2184a"
      },
      "source": [
        "import sys #carpeta del sistema\n",
        "edad = 19\n",
        "\n",
        "print( \"Tu edad es:\",edad) # al final de una linea de codigo\n",
        "# este es un comentario de linea simple\n",
        "\n",
        "\"\"\"\n",
        "Comentario de multiple línea\n",
        "En lenguaje C, C++ y Java el comentario de multiple linea es con \n",
        "/* .... */\n",
        "\n",
        "En lenguaje C, C++ y Java el comentario de una sola linea es com :\n",
        "\n",
        "//\n",
        "\n",
        "Aqui puedes explicar en prosa el segmento de un codigo para futuras referencias\n",
        "\n",
        "\"\"\"\n",
        "# tipos de datos numericos int y float\n",
        "\n",
        "print(sys.getsizeof(edad)) #muestra el numeros de bites de la variable que se pide\n",
        "# el tipo de dato INT utiliza diferente cantidad de bits segun el\n",
        "# leg de prog. por ejemplo en C utiliza 16 bits\n",
        "edad = edad + 1\n",
        "\n",
        "print( edad)\n",
        "\n",
        "estatura = 1.56\n",
        "print(estatura)\n",
        "print( sys.getsizeof(estatura))\n",
        "estatura = estatura + 0.1\n",
        "print(estatura)\n",
        "print( round(estatura,2)) # roud, sirve para poder acortar el numero de los decimales de un punto flotante\n",
        "\n",
        "edad += 1 # edad = edad +1\n",
        "print( \"Tu edad es:\",edad)\n",
        "\n",
        "edad -= 1 # edad = edad - 1\n",
        "print( \"Tu edad es:\",edad)\n",
        "\n",
        "edad += 1 #vuelve a 21\n",
        "edad /= 2 #edad = edad / 2\n",
        "print( \"La mitad de tu edad es:\",edad)\n",
        "\n",
        "\n",
        "edad = 21\n",
        "# volver a calcular la mitad de la edad pero solo dejar parte entera\n",
        "edad = edad // 2 # la doble // obliga al resultado ser entero\n",
        "print( \"La mitad de tu edad es:\",edad)\n",
        "\n",
        "\n",
        "# En la mayoria de los leng no permite operaciones entre diferente tipos de datos , en python no es el caso\n",
        "\n",
        "numero = edad / 2.0\n",
        "print(numero)\n",
        "\n",
        "numero *= 3 # numero = numero * 3\n",
        "print(numero)\n",
        "\n",
        "numero = 5.0\n",
        "numero **= 2  # la ** es de una potencia, numero = numero ** 2\n",
        "print(numero)\n"
      ],
      "execution_count": 24,
      "outputs": [
        {
          "output_type": "stream",
          "name": "stdout",
          "text": [
            "Tu edad es: 19\n",
            "28\n",
            "20\n",
            "1.56\n",
            "24\n",
            "1.6600000000000001\n",
            "1.66\n",
            "Tu edad es: 21\n",
            "Tu edad es: 20\n",
            "La mitad de tu edad es: 10.5\n",
            "La mitad de tu edad es: 10\n",
            "5.0\n",
            "15.0\n",
            "25.0\n"
          ]
        }
      ]
    },
    {
      "cell_type": "markdown",
      "metadata": {
        "id": "v57fyhmSjQwe"
      },
      "source": [
        "#Tarea\n",
        "Hacer un resumen de minimo una cuartilla de los origenes del lenguaje python, donde venga \n",
        "\n",
        "- ¿Porque de su creación?\n",
        "- Caracteristica principales\n",
        "- Diferencias de otros leng\n",
        "\n",
        "Forma de entrega: A mano en un cuaderno, sacarle foto (Scanner) y subir la foto"
      ]
    },
    {
      "cell_type": "code",
      "metadata": {
        "colab": {
          "base_uri": "https://localhost:8080/"
        },
        "id": "W-1seWKolt5D",
        "outputId": "e5a5f9d6-a976-4734-fa25-14cfa316b81e"
      },
      "source": [
        "#operador modulo\n",
        "numero = 21\n",
        "print (numero / 2)\n",
        "print (numero // 2)\n",
        "\n",
        "#el operador módulo da como resultado el residuo de una división\n",
        "print( numero % 2) # % nos muestra el reciduo de una divición\n",
        "\n",
        "numero = 24\n",
        "print( \"Residuo de 24 / 5:\", numero % 5)\n",
        "\n",
        "#operadores relacionales (logicos)\n",
        "print( \"24 es par?\", numero % 2 == 0) # == operador logico de \"iguak que\" que nos da de resultado un TRUE o FALSE\n",
        "\n",
        "#diferencia\n",
        "print(\"24 es diferente de 23=\", numero != 23) # ! operador logico de \"diferente\"\n",
        "\n",
        "print(\"24 es mayor que 23=\", numero > 23)\n",
        "print(\"24 es menor que 23=\", numero < 23)\n",
        "\n",
        "print(\"24 es mayor o igual a 24=\", numero >= 24)\n",
        "print(\"24 es menor o igual a 24=\", numero <= 23)\n",
        "\n",
        "print(\"el tipo de dato de la var numero es:\", type(numero))\n",
        "print(\"el tipo de dato de la var numero / 2.0 es:\", type(numero/2.0))\n"
      ],
      "execution_count": 35,
      "outputs": [
        {
          "output_type": "stream",
          "name": "stdout",
          "text": [
            "10.5\n",
            "10\n",
            "1\n",
            "Residuo de 24 / 5: 4\n",
            "24 es par? True\n",
            "24 es diferente de 23= True\n",
            "24 es mayor que 23= True\n",
            "24 es menor que 23= False\n",
            "24 es mayor o igual a 24= True\n",
            "24 es menor o igual a 24= False\n",
            "el tipo de dato de la var numero es: <class 'int'>\n",
            "el tipo de dato de la var numero / 2.0 es: <class 'float'>\n"
          ]
        }
      ]
    },
    {
      "cell_type": "markdown",
      "metadata": {
        "id": "uGBeei9gpcJH"
      },
      "source": [
        "#Tipo de dato String (str) en Python\n",
        "\n",
        "- Se maneja como un arreglo ( tipo de dato compuesto)\n",
        "- Se puede acceder a los elementos de el string por medio del índice del caracter\n",
        "- Mutable\n",
        "- Tiene métodos útiles (potentes)\n",
        "- Slicing"
      ]
    },
    {
      "cell_type": "code",
      "metadata": {
        "colab": {
          "base_uri": "https://localhost:8080/"
        },
        "id": "Z_Q_uPPlp_RZ",
        "outputId": "3d66e3af-566d-47b6-c292-b592949f9d8a"
      },
      "source": [
        "#hay cuatro forma de poner un dato string\n",
        "nombre = 'jose' # con comillas simples ''\n",
        "carrera = \"Ingeniería en computación\" # con comillas normales \"\"\n",
        "frase = \"\"\" El conocimiento \n",
        "me persigue, ...\n",
        "pero\n",
        "yo soy más rápido\n",
        "\"\"\" # con comillas triples \"\"\"\n",
        "print( nombre)\n",
        "print(carrera)\n",
        "print(frase)\n",
        "\n",
        "# La función type de Python te devuelve el tipo de dato de una variable\n",
        "print( type(nombre))\n",
        "\n",
        "paterno = str( \"Perez\") # y el str\n",
        "print( paterno )"
      ],
      "execution_count": 36,
      "outputs": [
        {
          "output_type": "stream",
          "name": "stdout",
          "text": [
            "jose\n",
            "Ingeniería en computación\n",
            " El conocimiento\n",
            "me persigue, ...\n",
            "pero\n",
            "yo soy más rápido\n",
            "\n",
            "<class 'str'>\n",
            "Perez\n"
          ]
        }
      ]
    }
  ]
}