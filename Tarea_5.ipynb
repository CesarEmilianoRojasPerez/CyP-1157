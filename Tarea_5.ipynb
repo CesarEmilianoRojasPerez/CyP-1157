{
  "nbformat": 4,
  "nbformat_minor": 0,
  "metadata": {
    "colab": {
      "name": "Tarea 5.ipynb",
      "provenance": [],
      "collapsed_sections": [],
      "authorship_tag": "ABX9TyPvtB+zQXLsZ+rtEWUOy8e7",
      "include_colab_link": true
    },
    "kernelspec": {
      "name": "python3",
      "display_name": "Python 3"
    },
    "language_info": {
      "name": "python"
    }
  },
  "cells": [
    {
      "cell_type": "markdown",
      "metadata": {
        "id": "view-in-github",
        "colab_type": "text"
      },
      "source": [
        "<a href=\"https://colab.research.google.com/github/CesarEmilianoRojasPerez/CyP-1157/blob/main/Tarea_5.ipynb\" target=\"_parent\"><img src=\"https://colab.research.google.com/assets/colab-badge.svg\" alt=\"Open In Colab\"/></a>"
      ]
    },
    {
      "cell_type": "markdown",
      "metadata": {
        "id": "vgTxm59TFh63"
      },
      "source": [
        "# Tarea 5\n",
        "\n",
        "## Rojas Pérez César Emiliano\n",
        "\n",
        "## 1157\n"
      ]
    },
    {
      "cell_type": "code",
      "metadata": {
        "colab": {
          "base_uri": "https://localhost:8080/"
        },
        "id": "UN0UM1gtZZ40",
        "outputId": "c40ef264-c4dc-41db-9feb-04da700fa833"
      },
      "source": [
        "a=int(input(\"Dame un numero: \"))\n",
        "b=int(input(\"Dame otro numero: \"))\n",
        "if a < b:\n",
        "    print(f\"{a} es menor {b}\")\n",
        "elif a==b:\n",
        "    print(f\"{a} es igual a {b}\")\n",
        "else:\n",
        "    print(f\"{a} es mayor a {b}\")"
      ],
      "execution_count": null,
      "outputs": [
        {
          "output_type": "stream",
          "name": "stdout",
          "text": [
            "Dame un numero: 9\n",
            "Dame otro numero: 12\n",
            "9 es menor 12\n"
          ]
        }
      ]
    },
    {
      "cell_type": "code",
      "metadata": {
        "colab": {
          "base_uri": "https://localhost:8080/"
        },
        "id": "1PvPz4bpftM_",
        "outputId": "65e41f18-c1e6-4b63-d45b-c9c58fed2845"
      },
      "source": [
        "a=int(input(\"Primer valor: \"))\n",
        "b=int(input(\"Segundo valor: \"))\n",
        "c=int(input(\"Tercer valor: \"))\n",
        "if a==b or a==c or b==c:\n",
        "    print(\"Los numeros no son diferentes\")\n",
        "else:\n",
        "    if c>b and c>a:\n",
        "        print(f\"El tercer valor es el numero mayor de los 3\")\n",
        "    elif b>c and b>a:\n",
        "        print(f\"El segundo valor es el numero mayor de los 3\")\n",
        "    elif a>c and a>b:\n",
        "        print(f\"El primer valor es el numero mayor de los 3\")"
      ],
      "execution_count": null,
      "outputs": [
        {
          "output_type": "stream",
          "name": "stdout",
          "text": [
            "Primer valor: 25\n",
            "Segundo valor: 10\n",
            "Tercer valor: 78\n",
            "El tercer valor es el numero mayor de los 3\n"
          ]
        }
      ]
    },
    {
      "cell_type": "code",
      "metadata": {
        "colab": {
          "base_uri": "https://localhost:8080/"
        },
        "id": "5iw27XpEjZht",
        "outputId": "7c17a53d-832c-406c-bc2f-2c7dde0f657d"
      },
      "source": [
        "a=int(input(\"Primer valor: \"))\n",
        "b=int(input(\"Segundo valor: \"))\n",
        "c=int(input(\"Tercer valor: \"))\n",
        "if a==b or a==c or b==c:\n",
        "    print(\"Los numeros no son diferentes\")\n",
        "else:\n",
        "    if c<b and c<a:\n",
        "        print(f\"El tercer valor es el numero menor de los 3\")\n",
        "    elif b<c and b<a:\n",
        "        print(f\"El segundo valor es el numero menor de los 3\")\n",
        "    elif a<c and a<b:\n",
        "        print(f\"El primer valor es el numero menor de los 3\")"
      ],
      "execution_count": null,
      "outputs": [
        {
          "output_type": "stream",
          "name": "stdout",
          "text": [
            "Primer valor: 25\n",
            "Segundo valor: 25\n",
            "Tercer valor: 10\n",
            "Los numeros no son diferentes\n"
          ]
        }
      ]
    },
    {
      "cell_type": "code",
      "metadata": {
        "colab": {
          "base_uri": "https://localhost:8080/"
        },
        "id": "gJm0pxWAkByh",
        "outputId": "40708427-9a0d-4d50-899f-fe850481bf0d"
      },
      "source": [
        "a=int(input(\"Primer valor: \"))\n",
        "b=int(input(\"Segundo valor: \"))\n",
        "c=int(input(\"Tercer valor: \"))\n",
        "d=int(input(\"Cuarto valor: \"))\n",
        "if a==b or a==c or a==d or b==c or b==d or c==d:\n",
        "    print(\"Los numeros no son diferentes. Intente otra vez.\")\n",
        "if a>b:\n",
        "    if a>c:\n",
        "        if a>d:\n",
        "            print(f\"{a} es mayor\")\n",
        "if a<b:\n",
        "    if a<c:\n",
        "        if a<d:\n",
        "            print(f\"{a} es menor\")\n",
        "if b>a:\n",
        "    if b>c:\n",
        "        if b>d:\n",
        "            print(f\"{b} es mayor\")\n",
        "if b<a:\n",
        "    if b<c:\n",
        "        if b<d:\n",
        "            print(f\"{b} es menor\")\n",
        "if c>a:\n",
        "    if c>b:\n",
        "        if c>d:\n",
        "            print(f\"{c} es mayor\")\n",
        "if c<a:\n",
        "    if c<b:\n",
        "        if c<d:\n",
        "            print(f\"{c} es menor\")\n",
        "if d>a:\n",
        "    if d>b:\n",
        "        if d>c:\n",
        "            print(f\"{d} es mayor\")\n",
        "if d<a:\n",
        "    if d<b:\n",
        "        if d<c:\n",
        "            print(f\"{d} es menor\")"
      ],
      "execution_count": 11,
      "outputs": [
        {
          "output_type": "stream",
          "name": "stdout",
          "text": [
            "Primer valor: -45\n",
            "Segundo valor: 45\n",
            "Tercer valor: 10\n",
            "Cuarto valor: 5\n",
            "-45 es menor\n",
            "45 es mayor\n"
          ]
        }
      ]
    }
  ]
}