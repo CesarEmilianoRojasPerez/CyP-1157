{
  "nbformat": 4,
  "nbformat_minor": 0,
  "metadata": {
    "colab": {
      "name": "FUNDAMENTOS CyP CLASE 14 DE OCTUBRE.ipynb",
      "provenance": [],
      "collapsed_sections": [],
      "authorship_tag": "ABX9TyNz9ihyib4352IzHP/jyjGV",
      "include_colab_link": true
    },
    "kernelspec": {
      "name": "python3",
      "display_name": "Python 3"
    },
    "language_info": {
      "name": "python"
    }
  },
  "cells": [
    {
      "cell_type": "markdown",
      "metadata": {
        "id": "view-in-github",
        "colab_type": "text"
      },
      "source": [
        "<a href=\"https://colab.research.google.com/github/CesarEmilianoRojasPerez/CyP-1157/blob/main/FUNDAMENTOS_CyP_CLASE_14_DE_OCTUBRE.ipynb\" target=\"_parent\"><img src=\"https://colab.research.google.com/assets/colab-badge.svg\" alt=\"Open In Colab\"/></a>"
      ]
    },
    {
      "cell_type": "markdown",
      "metadata": {
        "id": "fElj_ZpdpCJE"
      },
      "source": [
        "# Clase dia 14 de octubre del 2021\n",
        "###Una clase (class) es un tipo de dato compuesto"
      ]
    },
    {
      "cell_type": "code",
      "metadata": {
        "colab": {
          "base_uri": "https://localhost:8080/"
        },
        "id": "tkiazbm5pNLG",
        "outputId": "3fdad626-c4b0-4821-c413-81cab21c53e0"
      },
      "source": [
        "carrera = \"Ingeniería en computación\"\n",
        "print( carrera)\n",
        "print(carrera[2])"
      ],
      "execution_count": null,
      "outputs": [
        {
          "output_type": "stream",
          "name": "stdout",
          "text": [
            "Ingeniería en computación\n",
            "g\n"
          ]
        }
      ]
    },
    {
      "cell_type": "markdown",
      "metadata": {
        "id": "uPB9X5c7reSY"
      },
      "source": [
        "## A la sistaxis escrita para elegir un elemento de un grupo de datos se le llama selector\n",
        "\n",
        "En caso de Strings y listas (lst) se usan los caracteres '[' y ']'\n",
        "\n",
        "1. En todos los lengueajes los arreglos inician en 0\n",
        "2. En Python no eexiste como tal el tipo de dato arreglo, el concepto es sustituido por las listas\n",
        "3. Los strings se comportan como un arreglos en la mayoria de los lenguajes\n",
        "4. En Python se acepta en indexado negativo, en otros lenguajes NO"
      ]
    },
    {
      "cell_type": "code",
      "metadata": {
        "colab": {
          "base_uri": "https://localhost:8080/"
        },
        "id": "k4eufJ-LskG1",
        "outputId": "38bd4ccc-054b-4ccf-eb86-3a78bd53445c"
      },
      "source": [
        "carrera = \"Ingeniería en computación\"\n",
        "print( carrera[8])\n",
        "print( carrera [24])\n",
        "print( carrera[-1])\n",
        "print( carrera[-25])\n",
        "\n",
        "\n",
        "# Adelantando el tema ciclo FOR\n",
        "\n",
        "for letra in carrera:\n",
        "  print(\"-->\",letra ,\"<---\")"
      ],
      "execution_count": null,
      "outputs": [
        {
          "output_type": "stream",
          "name": "stdout",
          "text": [
            "í\n",
            "n\n",
            "n\n",
            "I\n",
            "--> I <---\n",
            "--> n <---\n",
            "--> g <---\n",
            "--> e <---\n",
            "--> n <---\n",
            "--> i <---\n",
            "--> e <---\n",
            "--> r <---\n",
            "--> í <---\n",
            "--> a <---\n",
            "-->   <---\n",
            "--> e <---\n",
            "--> n <---\n",
            "-->   <---\n",
            "--> c <---\n",
            "--> o <---\n",
            "--> m <---\n",
            "--> p <---\n",
            "--> u <---\n",
            "--> t <---\n",
            "--> a <---\n",
            "--> c <---\n",
            "--> i <---\n",
            "--> ó <---\n",
            "--> n <---\n"
          ]
        }
      ]
    },
    {
      "cell_type": "markdown",
      "metadata": {
        "id": "iULDSWfCu1QO"
      },
      "source": [
        "# Slicing (rebanado) de cadenas\n",
        "\n",
        "Permite seleccionar subcadenas con el operador\n",
        "##[ inicio : stop : incremento ]\n",
        "El stop no se incluye, es por eso que debemos agregrar una posición extra\n",
        "\n",
        "### Slicing y valores por defecto\n",
        "\n",
        "inicio por defecto siempres será 0\n",
        "stop sera el tamaño del arreglo en un indexado positivo\n",
        "       0 (en un indexado negativo)\n",
        "Incremento: es 1(indexado positivo)"
      ]
    },
    {
      "cell_type": "code",
      "metadata": {
        "colab": {
          "base_uri": "https://localhost:8080/"
        },
        "id": "LVobF5r-vPk0",
        "outputId": "dabcfa39-02c1-4c21-a006-a6439814b08a"
      },
      "source": [
        "carrera = \"Ingeniería en computación\"\n",
        "print(carrera[0:10:1])\n",
        "print(carrera[14:25:1])\n",
        "#lo mismo pero en indexado negativo\n",
        "print(carrera[-11:-1:1]) #sin valores por defecto\n",
        "\n",
        "print(carrera[:10:])\n",
        "print(carrera[14:25:])\n",
        "print(carrera[-11: :1]) #con valores por defectos\n",
        "\n",
        "\n",
        "# un ejecicio mas para ver incremento\n",
        "print(carrera[0:10:2])\n",
        "print(carrera[-1:-12:-1])\n",
        "print(carrera[25:13:-1])"
      ],
      "execution_count": null,
      "outputs": [
        {
          "output_type": "stream",
          "name": "stdout",
          "text": [
            "Ingeniería\n",
            "computación\n",
            "computació\n",
            "Ingeniería\n",
            "computación\n",
            "computación\n",
            "Igneí\n",
            "nóicatupmoc\n",
            "nóicatupmoc\n"
          ]
        }
      ]
    },
    {
      "cell_type": "markdown",
      "metadata": {
        "id": "tCrshNOr0fo6"
      },
      "source": [
        "# String y sus métodos\n",
        "# Todos los tipod de dato en python son objetos (CLASES de la POO)\n",
        "### Lo que sisgnifica que tinene atributos y métodos\n",
        "## dir() y help() funciones para obtener ayuda del lenguaje Python\n",
        "\n",
        "### dir muestra las funciones de un tipo de dato como resumen\n",
        "\n",
        "### help muestra la misma ayuda pero a detalle\n",
        "\n",
        "Metodo que inicia con __ son de uso interno de la clase, no deberiamos usarlo\n",
        "Todos los demas son de uso externo, los que podemos usar"
      ]
    },
    {
      "cell_type": "code",
      "metadata": {
        "colab": {
          "base_uri": "https://localhost:8080/"
        },
        "id": "Rs5bPB1p02n0",
        "outputId": "701382ea-9a31-451c-bc3a-7927c56ccdd3"
      },
      "source": [
        "frutas = \"  limon , fresa,  manzana  , aguacate  \"\n",
        "nombre = \"jose\"\n",
        "print(frutas)\n",
        "print( dir(frutas) )\n",
        "\n",
        "print( nombre.capitalize() )\n",
        "print( nombre.upper() )\n",
        "print( frutas.replace( 'a' , '4' ).replace( 'e' , '3').upper() )\n",
        "frutas = frutas.replace( 'a' , '4' ).replace( 'e' , '3').upper()\n",
        "print(frutas)\n",
        "print(\"-,-,-,-,-,-,-,-,-,-,-,-,-,-,-,-,-,-,-,-,-,-,-\")\n",
        "frutas = \"  limon , fresa,  manzana  , aguacate  \"\n",
        "print( frutas.strip() ) #pone la basura de adelante en la parte de atras\n",
        "print( frutas.split( ',') )\n",
        "print( frutas.index( 'o' ) )\n",
        "print( frutas.find( 'm' ))"
      ],
      "execution_count": null,
      "outputs": [
        {
          "output_type": "stream",
          "name": "stdout",
          "text": [
            "  limon , fresa,  manzana  , aguacate  \n",
            "['__add__', '__class__', '__contains__', '__delattr__', '__dir__', '__doc__', '__eq__', '__format__', '__ge__', '__getattribute__', '__getitem__', '__getnewargs__', '__gt__', '__hash__', '__init__', '__init_subclass__', '__iter__', '__le__', '__len__', '__lt__', '__mod__', '__mul__', '__ne__', '__new__', '__reduce__', '__reduce_ex__', '__repr__', '__rmod__', '__rmul__', '__setattr__', '__sizeof__', '__str__', '__subclasshook__', 'capitalize', 'casefold', 'center', 'count', 'encode', 'endswith', 'expandtabs', 'find', 'format', 'format_map', 'index', 'isalnum', 'isalpha', 'isascii', 'isdecimal', 'isdigit', 'isidentifier', 'islower', 'isnumeric', 'isprintable', 'isspace', 'istitle', 'isupper', 'join', 'ljust', 'lower', 'lstrip', 'maketrans', 'partition', 'replace', 'rfind', 'rindex', 'rjust', 'rpartition', 'rsplit', 'rstrip', 'split', 'splitlines', 'startswith', 'strip', 'swapcase', 'title', 'translate', 'upper', 'zfill']\n",
            "Jose\n",
            "JOSE\n",
            "  LIMON , FR3S4,  M4NZ4N4  , 4GU4C4T3  \n",
            "  LIMON , FR3S4,  M4NZ4N4  , 4GU4C4T3  \n",
            "-,-,-,-,-,-,-,-,-,-,-,-,-,-,-,-,-,-,-,-,-,-,-\n",
            "limon , fresa,  manzana  , aguacate\n",
            "['  limon ', ' fresa', '  manzana  ', ' aguacate  ']\n",
            "5\n",
            "4\n"
          ]
        }
      ]
    },
    {
      "cell_type": "markdown",
      "metadata": {
        "id": "0iTp4Bdu8YE3"
      },
      "source": [
        "# String y caracteres de escape\n",
        "\n",
        "\"jose\"\n",
        "- \\\" ----> \"\n",
        "- \\' ----> ´\n",
        "- \\n ----> Salto de linea (tecla enter)\n",
        "- \\t ----> Tabulador espacios a la izq.\n",
        "- \\uxxx --> Caracteres unicode\n",
        "- \\Uxxxxxxx---> Unicode extendido"
      ]
    },
    {
      "cell_type": "code",
      "metadata": {
        "colab": {
          "base_uri": "https://localhost:8080/"
        },
        "id": "aJ8LCdQ089xg",
        "outputId": "22c1d9fe-5622-4f0a-9258-bbacbb17b189"
      },
      "source": [
        "print( \" \\\"jose\\\" \")\n",
        "nombre = \" \\\"jose\\\" \"\n",
        "print(nombre)\n",
        "carrera = \"Ingeniería \\n\\t\\ten \\n\\t\\t\\tComputación\" \n",
        "print(carrera)"
      ],
      "execution_count": null,
      "outputs": [
        {
          "output_type": "stream",
          "name": "stdout",
          "text": [
            " \"jose\" \n",
            " \"jose\" \n",
            "Ingeniería \n",
            "\t\ten \n",
            "\t\t\tComputación\n"
          ]
        }
      ]
    }
  ]
}