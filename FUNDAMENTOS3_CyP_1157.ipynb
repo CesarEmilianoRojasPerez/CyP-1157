{
  "nbformat": 4,
  "nbformat_minor": 0,
  "metadata": {
    "colab": {
      "name": "FUNDAMENTOS3_CyP_1157.ipynb",
      "provenance": [],
      "collapsed_sections": [],
      "authorship_tag": "ABX9TyNDmhP732ENiYADZlIQ5DfX",
      "include_colab_link": true
    },
    "kernelspec": {
      "name": "python3",
      "display_name": "Python 3"
    },
    "language_info": {
      "name": "python"
    }
  },
  "cells": [
    {
      "cell_type": "markdown",
      "metadata": {
        "id": "view-in-github",
        "colab_type": "text"
      },
      "source": [
        "<a href=\"https://colab.research.google.com/github/CesarEmilianoRojasPerez/CyP-1157/blob/main/FUNDAMENTOS3_CyP_1157.ipynb\" target=\"_parent\"><img src=\"https://colab.research.google.com/assets/colab-badge.svg\" alt=\"Open In Colab\"/></a>"
      ]
    },
    {
      "cell_type": "markdown",
      "metadata": {
        "id": "Grzqm_sHFYJl"
      },
      "source": [
        "Repetición:\n",
        "    - Este tipo de estructura nos permite automatizar la ejecución repetitiva de código mientras ciertas condiciones se cumplan, tenemos 3 variantes de esta estructura en todos los lenguajes de programación:\n",
        "      - Desde ... hasta (estructura for)\n",
        "      - Haz mientras (estructura while)\n",
        "      - Haz y luego validaz mientras (estructura Do-While)\n",
        "\n",
        "# FOR CON Python\n",
        "```\n",
        "for j in range (10)\n",
        "    print(f\"Hola {j}\")\n",
        "```\n",
        "# FOR CON Leng C y/o Java\n",
        "```\n",
        "for( int j=0; j<10 ; j=j+1 ){\n",
        "    printf(\"Hola %i \\n\", j);\n",
        ")\n",
        "```\n",
        "En todos los lenguejes de programación existe un tipo especial de for, conocido como **for-each**\n",
        "\n",
        "# For- each en Python\n",
        "```\n",
        "for color in colores:\n",
        "    print(f\"Este es el color {color}\")\n",
        "```\n"
      ]
    },
    {
      "cell_type": "code",
      "metadata": {
        "colab": {
          "base_uri": "https://localhost:8080/"
        },
        "id": "dOVOmPbsHiYA",
        "outputId": "faf216f7-206b-4419-97ff-9ddc96e0ce80"
      },
      "source": [
        "# Función range()\n",
        "# range(<INICIO>,<STOP>,<INCREMENTO>)\n",
        "x = range(0,10,2)\n",
        "print(x)\n",
        "\n",
        "\n",
        "for j in range(10):# range(0,10) --> 0,1,2,3,4,5,6,7,8,9\n",
        "    print(f\"Hola {j}\")\n",
        "print(\"-.-.-.-.-.-.-.-\")\n",
        "for j in range(0,10,2):# range(0,10) --> 0,2,4,6,8\n",
        "    print(f\"Hola {j}\")\n",
        "print(\"-.-.-.-.-.-.-\")\n",
        "frutas = [\"Uva\",\"Aguacate\",\"Pera\",\"Manzana\",\"Sandia\"]\n",
        "\n",
        "print(frutas[0])\n",
        "print(frutas[1])\n",
        "print(frutas[2])\n",
        "print(frutas[3])\n",
        "print(frutas[4])\n",
        "print(\"---Frutas---\")\n",
        "for index in range(5):\n",
        "    print(frutas[index])"
      ],
      "execution_count": null,
      "outputs": [
        {
          "output_type": "stream",
          "name": "stdout",
          "text": [
            "range(0, 10, 2)\n",
            "Hola 0\n",
            "Hola 1\n",
            "Hola 2\n",
            "Hola 3\n",
            "Hola 4\n",
            "Hola 5\n",
            "Hola 6\n",
            "Hola 7\n",
            "Hola 8\n",
            "Hola 9\n",
            "-.-.-.-.-.-.-.-\n",
            "Hola 0\n",
            "Hola 2\n",
            "Hola 4\n",
            "Hola 6\n",
            "Hola 8\n",
            "-.-.-.-.-.-.-\n",
            "Uva\n",
            "Aguacate\n",
            "Pera\n",
            "Manzana\n",
            "Sandia\n",
            "---Frutas---\n",
            "Uva\n",
            "Aguacate\n",
            "Pera\n",
            "Manzana\n",
            "Sandia\n"
          ]
        }
      ]
    },
    {
      "cell_type": "code",
      "metadata": {
        "colab": {
          "base_uri": "https://localhost:8080/"
        },
        "id": "Xpofpo16LRt3",
        "outputId": "fb63ad18-2a90-4ddb-ba0a-15c6da92fe40"
      },
      "source": [
        "for i in range(5):\n",
        "    print(\"+++++\")\n",
        "i=\"+\"\n",
        "for i in range(5):\n",
        "    print(\"+\")"
      ],
      "execution_count": null,
      "outputs": [
        {
          "output_type": "stream",
          "name": "stdout",
          "text": [
            "+++++\n",
            "+++++\n",
            "+++++\n",
            "+++++\n",
            "+++++\n",
            "+\n",
            "+\n",
            "+\n",
            "+\n",
            "+\n"
          ]
        }
      ]
    },
    {
      "cell_type": "code",
      "metadata": {
        "id": "j8AqD2SqOpc1"
      },
      "source": [
        "for x in range(1,20,1):\n",
        "    print(x)\n",
        "print(\"Fin del programa\")\n",
        "\n",
        "for x in range(19,0,-1):\n",
        "    print(x)\n",
        "print(\"Fin del programa\")"
      ],
      "execution_count": null,
      "outputs": []
    },
    {
      "cell_type": "code",
      "metadata": {
        "colab": {
          "base_uri": "https://localhost:8080/"
        },
        "id": "4t0ACfuSPbq2",
        "outputId": "2508878c-f3d1-44ed-e438-f38f468f37b0"
      },
      "source": [
        "# ejemplo 3.3\n",
        "CUECER=0\n",
        "NUM = 0\n",
        "N=int(input(\"Un valor numerico mayor que 1: \"))\n",
        "for I in range(1,N+1,1):\n",
        "    N=int(input(\"Un valor numerico mayor que 1: \"))\n",
        "    if N ==0:\n",
        "        CUECER += 1\n",
        "\n",
        "print(\"CUECER=\", CUECER0)"
      ],
      "execution_count": 1,
      "outputs": [
        {
          "output_type": "stream",
          "name": "stdout",
          "text": [
            "Un valor numerico mayor que 1: 4\n",
            "Un valor numerico mayor que 1: 0\n",
            "Un valor numerico mayor que 1: 0\n",
            "Un valor numerico mayor que 1: 2\n",
            "Un valor numerico mayor que 1: 2\n",
            "CUECER= 2\n"
          ]
        }
      ]
    },
    {
      "cell_type": "code",
      "metadata": {
        "colab": {
          "base_uri": "https://localhost:8080/"
        },
        "id": "n3FWQ-ENQmPi",
        "outputId": "dfca3a64-912b-4d58-b9d6-a5f161012249"
      },
      "source": [
        "n=7\n",
        "for i in range(1,11,1):\n",
        "    x=n*i\n",
        "    print(f\"{n} x {i} = {x}\")"
      ],
      "execution_count": 3,
      "outputs": [
        {
          "output_type": "stream",
          "name": "stdout",
          "text": [
            "7 x 1 = 7\n",
            "7 x 2 = 14\n",
            "7 x 3 = 21\n",
            "7 x 4 = 28\n",
            "7 x 5 = 35\n",
            "7 x 6 = 42\n",
            "7 x 7 = 49\n",
            "7 x 8 = 56\n",
            "7 x 9 = 63\n",
            "7 x 10 = 70\n"
          ]
        }
      ]
    },
    {
      "cell_type": "code",
      "metadata": {
        "colab": {
          "base_uri": "https://localhost:8080/"
        },
        "id": "Q1eQeGydRyPT",
        "outputId": "adf7404c-6d7e-4cd6-8e96-b5351ed461c6"
      },
      "source": [
        "# Resolución\n",
        "N=int(input(\"Dame un valor entre el 1 y 5: \"))\n",
        "if N<1 or N>5:\n",
        "    print(\"Tu numero no esta dentro del parametro, Intenta de nuevo\")\n",
        "M=int(input(f\"Dame un valor entre el {N} y 10: \"))\n",
        "if M<2 or M>10:\n",
        "    print(\"Tu numero no esta dentro del parametro, Intenta de nuevo\")\n",
        "for J in range(N,M+1):\n",
        "    for I in range(1,11):\n",
        "        x=J*I\n",
        "        print(f\"{J} x {I} = {x}\")\n",
        "    print(\"\\n\")"
      ],
      "execution_count": 5,
      "outputs": [
        {
          "output_type": "stream",
          "name": "stdout",
          "text": [
            "Dame un valor entre el 1 y 5: 4\n",
            "Dame un valor entre el 4 y 10: 6\n",
            "4 x 1 = 4\n",
            "4 x 2 = 8\n",
            "4 x 3 = 12\n",
            "4 x 4 = 16\n",
            "4 x 5 = 20\n",
            "4 x 6 = 24\n",
            "4 x 7 = 28\n",
            "4 x 8 = 32\n",
            "4 x 9 = 36\n",
            "4 x 10 = 40\n",
            "\n",
            "\n",
            "5 x 1 = 5\n",
            "5 x 2 = 10\n",
            "5 x 3 = 15\n",
            "5 x 4 = 20\n",
            "5 x 5 = 25\n",
            "5 x 6 = 30\n",
            "5 x 7 = 35\n",
            "5 x 8 = 40\n",
            "5 x 9 = 45\n",
            "5 x 10 = 50\n",
            "\n",
            "\n",
            "6 x 1 = 6\n",
            "6 x 2 = 12\n",
            "6 x 3 = 18\n",
            "6 x 4 = 24\n",
            "6 x 5 = 30\n",
            "6 x 6 = 36\n",
            "6 x 7 = 42\n",
            "6 x 8 = 48\n",
            "6 x 9 = 54\n",
            "6 x 10 = 60\n",
            "\n",
            "\n"
          ]
        }
      ]
    },
    {
      "cell_type": "code",
      "metadata": {
        "colab": {
          "base_uri": "https://localhost:8080/"
        },
        "id": "HFfWzRJVVdDH",
        "outputId": "cf12ce2c-a323-4b78-e46b-cebc4e1680f5"
      },
      "source": [
        "# Ejemplo del profe\n",
        "N1=int(input(\"Dame un numero entre 1 y 5: \"))\n",
        "if N1>0 and N1 <=5:\n",
        "    N2=int(input(f\"Dame un valor entre {N1} y 10: \"))\n",
        "    if N2>N1 and N2<=10:\n",
        "        for i in range(N1,N2+1):\n",
        "            for j in range(1,11):\n",
        "                print(f\"{i} x {j} = \", i*j)\n",
        "            print(\"-.-.-.-.-.-.-\")\n",
        "else:\n",
        "    print(\"Fuera del rango 1-5\")\n",
        "            "
      ],
      "execution_count": 8,
      "outputs": [
        {
          "output_type": "stream",
          "name": "stdout",
          "text": [
            "Dame un numero entre 1 y 5: 4\n",
            "Dame un valor entre 4 y 10: 6\n",
            "4 x 1 =  4\n",
            "4 x 2 =  8\n",
            "4 x 3 =  12\n",
            "4 x 4 =  16\n",
            "4 x 5 =  20\n",
            "4 x 6 =  24\n",
            "4 x 7 =  28\n",
            "4 x 8 =  32\n",
            "4 x 9 =  36\n",
            "4 x 10 =  40\n",
            "-.-.-.-.-.-.-\n",
            "5 x 1 =  5\n",
            "5 x 2 =  10\n",
            "5 x 3 =  15\n",
            "5 x 4 =  20\n",
            "5 x 5 =  25\n",
            "5 x 6 =  30\n",
            "5 x 7 =  35\n",
            "5 x 8 =  40\n",
            "5 x 9 =  45\n",
            "5 x 10 =  50\n",
            "-.-.-.-.-.-.-\n",
            "6 x 1 =  6\n",
            "6 x 2 =  12\n",
            "6 x 3 =  18\n",
            "6 x 4 =  24\n",
            "6 x 5 =  30\n",
            "6 x 6 =  36\n",
            "6 x 7 =  42\n",
            "6 x 8 =  48\n",
            "6 x 9 =  54\n",
            "6 x 10 =  60\n",
            "-.-.-.-.-.-.-\n"
          ]
        }
      ]
    },
    {
      "cell_type": "code",
      "metadata": {
        "colab": {
          "base_uri": "https://localhost:8080/"
        },
        "id": "WtmZlshpW7Gm",
        "outputId": "f8aa9cf7-3fa0-4a6f-f917-82b6abb1efb1"
      },
      "source": [
        "#GENERADORES\n",
        "numeros=[0,0,0,0,0]\n",
        "print(numeros)\n",
        "numeros = [0 for x in range (5)]\n",
        "print(numeros)\n",
        "#empleando la variable de control x para el valor inicial\n",
        "numeros = [x for x in range(5)]\n",
        "print(numeros)\n",
        "#[10,20,30,40,50,60,70,80,90,100]\n",
        "numeros = [x for x in range(10,101,10)]\n",
        "print(numeros)\n",
        "print(\"-.-.-.-.-.-.-\")\n",
        "numeros = [(x+1)*10 for x in range(10)]\n",
        "print(numeros)\n",
        "print(\"-.-.-.-.-.-.-\")\n",
        "numeros = [x*10 for x in range(1,11)]\n",
        "print(numeros)"
      ],
      "execution_count": 10,
      "outputs": [
        {
          "output_type": "stream",
          "name": "stdout",
          "text": [
            "[0, 0, 0, 0, 0]\n",
            "[0, 0, 0, 0, 0]\n",
            "[0, 1, 2, 3, 4]\n",
            "[10, 20, 30, 40, 50, 60, 70, 80, 90, 100]\n",
            "-.-.-.-.-.-.-\n",
            "[10, 20, 30, 40, 50, 60, 70, 80, 90, 100]\n",
            "-.-.-.-.-.-.-\n",
            "[10, 20, 30, 40, 50, 60, 70, 80, 90, 100]\n"
          ]
        }
      ]
    },
    {
      "cell_type": "code",
      "metadata": {
        "colab": {
          "base_uri": "https://localhost:8080/"
        },
        "id": "-9yZ7S10YNwg",
        "outputId": "c04f583e-c25b-40c1-a7fc-4130af610232"
      },
      "source": [
        "#Ejercicio: Calcular promedio de edades\n",
        "suma=0\n",
        "edades = [0 for x in range(5)]\n",
        "print(edades)\n",
        "for j in range(5):\n",
        "    edades[j]= int(input(\"Dame la edad: \"))\n",
        "    suma = suma+edades[j]\n",
        "print(edades)\n",
        "print(\"Promedio: \", suma/5)"
      ],
      "execution_count": 20,
      "outputs": [
        {
          "output_type": "stream",
          "name": "stdout",
          "text": [
            "[0, 0, 0, 0, 0]\n",
            "Dame la edad: 20\n",
            "Dame la edad: 21\n",
            "Dame la edad: 33\n",
            "Dame la edad: 25\n",
            "Dame la edad: 19\n",
            "[20, 21, 33, 25, 19]\n",
            "Promedio:  23.6\n"
          ]
        }
      ]
    },
    {
      "cell_type": "code",
      "metadata": {
        "colab": {
          "base_uri": "https://localhost:8080/"
        },
        "id": "7_qTl_GccYYh",
        "outputId": "6a072b46-2a26-4105-85d1-bb404d993cf5"
      },
      "source": [
        "import random\n",
        "print(random.random())\n",
        "print(random.uniform(5,11))\n",
        "val = round(random.uniform(5,11) , 2)\n",
        "print(val)"
      ],
      "execution_count": 27,
      "outputs": [
        {
          "output_type": "stream",
          "name": "stdout",
          "text": [
            "0.14132051386767475\n",
            "8.699167704727346\n",
            "9.77\n"
          ]
        }
      ]
    },
    {
      "cell_type": "code",
      "metadata": {
        "colab": {
          "base_uri": "https://localhost:8080/"
        },
        "id": "aC6Tv9o4c-9P",
        "outputId": "153759bf-a636-4a5f-81a9-92d8b0d99a0d"
      },
      "source": [
        "valores=[round(random.uniform(5,11),2) for x in range(20)]\n",
        "print(valores)\n",
        "# imprimir el numero mayor y menor, a su vez hacer el promedio"
      ],
      "execution_count": 26,
      "outputs": [
        {
          "output_type": "stream",
          "name": "stdout",
          "text": [
            "[8.28, 9.36, 9.35, 10.16, 8.17, 6.28, 8.02, 7.94, 8.43, 8.57, 6.41, 5.21, 7.16, 6.1, 9.97, 9.86, 7.72, 6.37, 8.04, 6.2]\n"
          ]
        }
      ]
    }
  ]
}