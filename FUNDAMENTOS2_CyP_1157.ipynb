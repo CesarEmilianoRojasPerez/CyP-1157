{
  "nbformat": 4,
  "nbformat_minor": 0,
  "metadata": {
    "colab": {
      "name": "FUNDAMENTOS2_CyP_1157.ipynb",
      "provenance": [],
      "collapsed_sections": [],
      "authorship_tag": "ABX9TyPAjIa7kIM3bQFu/4/pQAr4",
      "include_colab_link": true
    },
    "kernelspec": {
      "name": "python3",
      "display_name": "Python 3"
    },
    "language_info": {
      "name": "python"
    }
  },
  "cells": [
    {
      "cell_type": "markdown",
      "metadata": {
        "id": "view-in-github",
        "colab_type": "text"
      },
      "source": [
        "<a href=\"https://colab.research.google.com/github/CesarEmilianoRojasPerez/CyP-1157/blob/main/FUNDAMENTOS2_CyP_1157.ipynb\" target=\"_parent\"><img src=\"https://colab.research.google.com/assets/colab-badge.svg\" alt=\"Open In Colab\"/></a>"
      ]
    },
    {
      "cell_type": "markdown",
      "metadata": {
        "id": "DeYmPFyyFUZM"
      },
      "source": [
        "##Tipo de datos estructurados de Python\n",
        "\n",
        "1. Listas\n",
        "2. Tuplas\n",
        "3. Diccionarios\n",
        "4. Conjuntos (opcional)"
      ]
    },
    {
      "cell_type": "markdown",
      "metadata": {
        "id": "E1yl3iWPFnea"
      },
      "source": [
        "# Listas\n",
        "\n",
        "- Tipo de dato que agrupa variables o valores.\n",
        "- Estructura secuencial (Undexados empezando por 0)\n",
        "- Se declara de dos formas\n",
        "  - Usando [ ]\n",
        "  - Usando list()\n",
        "  - Usando generadores [Var for x in range (10)]\n",
        "- puesde contener tipod de dato diversos (En otros lenguajes de prog, eso no es posible de forma directa)\n",
        "- Los elementos internos se seleccionan con [ ]\n",
        "- Soporta slicing\n",
        "- SON MUTABLES\n",
        "- Al ser una clase, contiene muchos métodos utiles"
      ]
    },
    {
      "cell_type": "code",
      "metadata": {
        "colab": {
          "base_uri": "https://localhost:8080/"
        },
        "id": "8ePowKRqFR9_",
        "outputId": "97ad7afe-b3c1-4b9c-e207-828c3dc60fcd"
      },
      "source": [
        "numeros = [10, 5,2, 3, 1]\n",
        "print(numeros)\n",
        "\n",
        "numeros2 = list()\n",
        "numeros2.append(10)\n",
        "numeros2.append(5)\n",
        "numeros2.append(2)\n",
        "numeros2.append(3)\n",
        "numeros2.append(1)\n",
        "print(numeros2)\n",
        "\n",
        "numeros[2] = 20\n",
        "print(numeros)\n",
        "numeros[-1]=33\n",
        "numeros.append(88)\n",
        "print(numeros)"
      ],
      "execution_count": null,
      "outputs": [
        {
          "output_type": "stream",
          "name": "stdout",
          "text": [
            "[10, 5, 2, 3, 1]\n",
            "[10, 5, 2, 3, 1]\n",
            "[10, 5, 20, 3, 1]\n",
            "[10, 5, 20, 3, 33, 88]\n"
          ]
        }
      ]
    },
    {
      "cell_type": "code",
      "metadata": {
        "colab": {
          "base_uri": "https://localhost:8080/"
        },
        "id": "kh8SHcDKIV7V",
        "outputId": "1dbae6a9-f182-4b59-9256-c0529d7434b0"
      },
      "source": [
        "# tipoos diversos\n",
        "\n",
        "cosas= [12, 2, True , \"José\", 1.57, [\"pera\",\"kiwi\",\"uva\"]]\n",
        "print(cosas)\n",
        "print(cosas[1])\n",
        "print(cosas[4])\n",
        "print(cosas[5])\n",
        "print(cosas[5][1])\n",
        "print(cosas[3][1:3:])\n",
        "cosas[3]=cosas[3].upper()\n",
        "print(cosas)\n",
        "\n"
      ],
      "execution_count": null,
      "outputs": [
        {
          "output_type": "stream",
          "name": "stdout",
          "text": [
            "[12, 2, True, 'José', 1.57, ['pera', 'kiwi', 'uva']]\n",
            "2\n",
            "1.57\n",
            "['pera', 'kiwi', 'uva']\n",
            "kiwi\n",
            "os\n",
            "[12, 2, True, 'JOSÉ', 1.57, ['pera', 'kiwi', 'uva']]\n"
          ]
        }
      ]
    },
    {
      "cell_type": "code",
      "metadata": {
        "colab": {
          "base_uri": "https://localhost:8080/"
        },
        "id": "ak7v9wjRL04j",
        "outputId": "6d15bcd7-14a4-43b6-f622-cd42d57f75ac"
      },
      "source": [
        "numeros=[1,2,3,4,5,6,7,8,9,10,11]\n",
        "print(numeros)\n",
        "#slicing\n",
        "#1.- 4 al 8???\n",
        "print( numeros[3:8:])\n",
        "#1.- [9,10]\n",
        "print(numeros[8:10:])\n",
        "print(numeros[-3:-1:])\n",
        "#3.- imprimir la lista en orden inverso [11,10,9,etc., 1]\n",
        "print(numeros[::-1]) \n",
        "#cuando el incremento es un numero negativo, el incremento es al revez\n"
      ],
      "execution_count": null,
      "outputs": [
        {
          "output_type": "stream",
          "name": "stdout",
          "text": [
            "[1, 2, 3, 4, 5, 6, 7, 8, 9, 10, 11]\n",
            "[4, 5, 6, 7, 8]\n",
            "[9, 10]\n",
            "[9, 10]\n",
            "[11, 10, 9, 8, 7, 6, 5, 4, 3, 2, 1]\n"
          ]
        }
      ]
    },
    {
      "cell_type": "code",
      "metadata": {
        "colab": {
          "base_uri": "https://localhost:8080/"
        },
        "id": "Zmp7655LPfC8",
        "outputId": "c2b6c848-afbc-406f-e17d-ccf0f005b306"
      },
      "source": [
        "#Crear una lista con un generador\n",
        "numeros = [ x*3 for x in range(101)]\n",
        "print(numeros)"
      ],
      "execution_count": null,
      "outputs": [
        {
          "output_type": "stream",
          "name": "stdout",
          "text": [
            "[0, 3, 6, 9, 12, 15, 18, 21, 24, 27, 30, 33, 36, 39, 42, 45, 48, 51, 54, 57, 60, 63, 66, 69, 72, 75, 78, 81, 84, 87, 90, 93, 96, 99, 102, 105, 108, 111, 114, 117, 120, 123, 126, 129, 132, 135, 138, 141, 144, 147, 150, 153, 156, 159, 162, 165, 168, 171, 174, 177, 180, 183, 186, 189, 192, 195, 198, 201, 204, 207, 210, 213, 216, 219, 222, 225, 228, 231, 234, 237, 240, 243, 246, 249, 252, 255, 258, 261, 264, 267, 270, 273, 276, 279, 282, 285, 288, 291, 294, 297, 300]\n"
          ]
        }
      ]
    },
    {
      "cell_type": "markdown",
      "metadata": {
        "id": "6kIvv8XZQTqL"
      },
      "source": [
        "# Función range()\n",
        "\n",
        "Tiene los mismos componentes que slincing\n",
        "\n",
        "ini, stop, incremento\n",
        "\n",
        "range(1,101,1)"
      ]
    },
    {
      "cell_type": "code",
      "metadata": {
        "colab": {
          "base_uri": "https://localhost:8080/"
        },
        "id": "Zd7zrOl4QrXR",
        "outputId": "26378b3e-dc44-470b-8a48-d3f3c12efbd9"
      },
      "source": [
        "numeros = [ x for x in range(50,101,5)]\n",
        "print(numeros)"
      ],
      "execution_count": null,
      "outputs": [
        {
          "output_type": "stream",
          "name": "stdout",
          "text": [
            "[50, 55, 60, 65, 70, 75, 80, 85, 90, 95, 100]\n"
          ]
        }
      ]
    },
    {
      "cell_type": "markdown",
      "metadata": {
        "id": "vsaSdkQyRE-G"
      },
      "source": [
        "## Metodos disponibles de las listas"
      ]
    },
    {
      "cell_type": "code",
      "metadata": {
        "colab": {
          "base_uri": "https://localhost:8080/"
        },
        "id": "QUjyirZ3RJv2",
        "outputId": "2dfb2517-7d92-44d9-952d-db237d940c1b"
      },
      "source": [
        "dir(list)"
      ],
      "execution_count": null,
      "outputs": [
        {
          "output_type": "execute_result",
          "data": {
            "text/plain": [
              "['__add__',\n",
              " '__class__',\n",
              " '__contains__',\n",
              " '__delattr__',\n",
              " '__delitem__',\n",
              " '__dir__',\n",
              " '__doc__',\n",
              " '__eq__',\n",
              " '__format__',\n",
              " '__ge__',\n",
              " '__getattribute__',\n",
              " '__getitem__',\n",
              " '__gt__',\n",
              " '__hash__',\n",
              " '__iadd__',\n",
              " '__imul__',\n",
              " '__init__',\n",
              " '__init_subclass__',\n",
              " '__iter__',\n",
              " '__le__',\n",
              " '__len__',\n",
              " '__lt__',\n",
              " '__mul__',\n",
              " '__ne__',\n",
              " '__new__',\n",
              " '__reduce__',\n",
              " '__reduce_ex__',\n",
              " '__repr__',\n",
              " '__reversed__',\n",
              " '__rmul__',\n",
              " '__setattr__',\n",
              " '__setitem__',\n",
              " '__sizeof__',\n",
              " '__str__',\n",
              " '__subclasshook__',\n",
              " 'append',\n",
              " 'clear',\n",
              " 'copy',\n",
              " 'count',\n",
              " 'extend',\n",
              " 'index',\n",
              " 'insert',\n",
              " 'pop',\n",
              " 'remove',\n",
              " 'reverse',\n",
              " 'sort']"
            ]
          },
          "metadata": {},
          "execution_count": 40
        }
      ]
    },
    {
      "cell_type": "code",
      "metadata": {
        "colab": {
          "base_uri": "https://localhost:8080/"
        },
        "id": "mty4MEOESUwP",
        "outputId": "1f76d02a-ad48-4d5f-8437-8fd1523cef08"
      },
      "source": [
        "numeros=[4,1,15,8,22,34,50]\n",
        "print(numeros)\n",
        "numeros.append(99)\n",
        "print(numeros)\n",
        "#numeros.clear()\n",
        "numeros = []\n",
        "print(numeros)\n",
        "\n",
        "frutas = [\"Uvas\",\"Kiwi\",\"Manzana\"]\n",
        "copia=frutas\n",
        "print(frutas)\n",
        "print(copia)\n",
        "frutas.append(\"Naranja\")\n",
        "print(frutas)\n",
        "print(copia)\n",
        "\n",
        "colores=[\"Rojo\", \"Azul\", \"Blanco\"]\n",
        "copia2= colores.copy()\n",
        "print(colores)\n",
        "print(copia2)\n",
        "colores.append(\"Verde\")\n",
        "print(colores)\n",
        "print(copia2)\n",
        "\n",
        "numeros=[4,1,15,15,8,22,34,50]\n",
        "print(\"Numero de veces que aparece el 15:\", numeros.count(15))\n",
        "\n",
        "#Extend\n",
        "nombres=[\"Jose\",\"Pedro\",\"Karina\"]\n",
        "onombres=[\"Josue\",\"Diana\",\"Dalia\"]\n",
        "print(nombres)\n",
        "print(onombres)\n",
        "nombres= nombres + onombres\n",
        "print(nombres)\n",
        "print(onombres)\n",
        "\n",
        "#lo mismo con el metodo extend\n",
        "onombres.extend([\"Jesus\",\"Maria\",\"Jose\"])\n",
        "print(onombres)\n",
        "print(\"Jesus esta en la posición:\", onombres.index(\"Jesus\"))\n",
        "onombres.insert(4,\"Espiritu Santo\")\n",
        "print(onombres)\n",
        "\n",
        "#pop\n",
        "resultado=onombres.pop()\n",
        "print(onombres)\n",
        "print(resultado)"
      ],
      "execution_count": null,
      "outputs": [
        {
          "output_type": "stream",
          "name": "stdout",
          "text": [
            "[4, 1, 15, 8, 22, 34, 50]\n",
            "[4, 1, 15, 8, 22, 34, 50, 99]\n",
            "[]\n",
            "['Uvas', 'Kiwi', 'Manzana']\n",
            "['Uvas', 'Kiwi', 'Manzana']\n",
            "['Uvas', 'Kiwi', 'Manzana', 'Naranja']\n",
            "['Uvas', 'Kiwi', 'Manzana', 'Naranja']\n",
            "['Rojo', 'Azul', 'Blanco']\n",
            "['Rojo', 'Azul', 'Blanco']\n",
            "['Rojo', 'Azul', 'Blanco', 'Verde']\n",
            "['Rojo', 'Azul', 'Blanco']\n",
            "Numero de veces que aparece el 15: 2\n",
            "['Jose', 'Pedro', 'Karina']\n",
            "['Josue', 'Diana', 'Dalia']\n",
            "['Jose', 'Pedro', 'Karina', 'Josue', 'Diana', 'Dalia']\n",
            "['Josue', 'Diana', 'Dalia']\n",
            "['Josue', 'Diana', 'Dalia', 'Jesus', 'Maria', 'Jose']\n",
            "Jesus esta en la posición: 3\n",
            "['Josue', 'Diana', 'Dalia', 'Jesus', 'Espiritu Santo', 'Maria', 'Jose']\n",
            "['Josue', 'Diana', 'Dalia', 'Jesus', 'Espiritu Santo', 'Maria']\n",
            "Jose\n"
          ]
        }
      ]
    },
    {
      "cell_type": "markdown",
      "metadata": {
        "id": "7InblgmOzBgs"
      },
      "source": [
        "# Tuplas\n",
        "\n",
        "## Caracteristicas\n",
        "- Son datos agrupados\n",
        "- Se declaran usando:\n",
        "    - ( )\n",
        "    - tuple()\n",
        "- Es una estructura secuencial, indexada a partir de 0.\n",
        "- Pueden tener 0 a n elementos.\n",
        "- NO SON MUTABLES (no se puede eliminar y/o cambiar).\n",
        "- Son buenas para almacenar información de consulta.\n",
        "- Pueden almacenar información de diferentes tipos de dato.\n",
        "- Pueden estar anidadas\n",
        "- Tienen metodos utiles"
      ]
    },
    {
      "cell_type": "code",
      "metadata": {
        "colab": {
          "base_uri": "https://localhost:8080/"
        },
        "id": "-FDq5Y3IxjU8",
        "outputId": "cd8c92e4-9fa0-4f1f-a392-ee1e55d2b10f"
      },
      "source": [
        "info=(\"juan23\",\"dios 1234\", \"123.232.1.12\")\n",
        "print(info)\n",
        "print(info[1])\n",
        "#info[1]=\"patito23\"\n",
        "\n",
        "numeros=(0,1,2,3,4,5,6,7,8,9,10,11,12,13,14,15)\n",
        "print(numeros)\n",
        "print(numeros[5:11])\n",
        "cosas=(info,numeros)\n",
        "print(cosas)\n",
        "print(cosas[1][5:11:1])\n",
        "print(cosas[0][2][4:7])\n",
        "print(cosas[0][2][-8:-5])"
      ],
      "execution_count": null,
      "outputs": [
        {
          "output_type": "stream",
          "name": "stdout",
          "text": [
            "('juan23', 'dios 1234', '123.232.1.12')\n",
            "dios 1234\n",
            "(0, 1, 2, 3, 4, 5, 6, 7, 8, 9, 10, 11, 12, 13, 14, 15)\n",
            "(5, 6, 7, 8, 9, 10)\n",
            "(('juan23', 'dios 1234', '123.232.1.12'), (0, 1, 2, 3, 4, 5, 6, 7, 8, 9, 10, 11, 12, 13, 14, 15))\n",
            "(5, 6, 7, 8, 9, 10)\n",
            "232\n",
            "232\n"
          ]
        }
      ]
    },
    {
      "cell_type": "markdown",
      "metadata": {
        "id": "5icg9AiJ0b_N"
      },
      "source": [
        "# Métodos de las tuplas\n",
        "\n",
        "Son los mismos de las listas pero los que no involucren mutabilidad."
      ]
    },
    {
      "cell_type": "code",
      "metadata": {
        "colab": {
          "base_uri": "https://localhost:8080/"
        },
        "id": "l1BvsJzh0bFS",
        "outputId": "979f8c16-d70c-4493-e174-ba6e6fa88f08"
      },
      "source": [
        "dir(tuple)"
      ],
      "execution_count": null,
      "outputs": [
        {
          "output_type": "execute_result",
          "data": {
            "text/plain": [
              "['__add__',\n",
              " '__class__',\n",
              " '__contains__',\n",
              " '__delattr__',\n",
              " '__dir__',\n",
              " '__doc__',\n",
              " '__eq__',\n",
              " '__format__',\n",
              " '__ge__',\n",
              " '__getattribute__',\n",
              " '__getitem__',\n",
              " '__getnewargs__',\n",
              " '__gt__',\n",
              " '__hash__',\n",
              " '__init__',\n",
              " '__init_subclass__',\n",
              " '__iter__',\n",
              " '__le__',\n",
              " '__len__',\n",
              " '__lt__',\n",
              " '__mul__',\n",
              " '__ne__',\n",
              " '__new__',\n",
              " '__reduce__',\n",
              " '__reduce_ex__',\n",
              " '__repr__',\n",
              " '__rmul__',\n",
              " '__setattr__',\n",
              " '__sizeof__',\n",
              " '__str__',\n",
              " '__subclasshook__',\n",
              " 'count',\n",
              " 'index']"
            ]
          },
          "metadata": {},
          "execution_count": 7
        }
      ]
    },
    {
      "cell_type": "markdown",
      "metadata": {
        "id": "v-NKcTCb2oNh"
      },
      "source": [
        "# Diccionarios\n",
        "### Caracteristicas de los diccionarios\n",
        "\n",
        "- Agrupan datos pero de forma no lineal.\n",
        "- Se declaran con :\n",
        "    - { }\n",
        "    - dict()\n",
        "- Formado por pares del tipo llave:valor, donde:\n",
        "    - llave es de tipo string (siempre)\n",
        "    - valor puede ser de cualquier tipo de dato, incluyendi los diccionarios\n",
        "- Se seleccionan con la llave de la forma: [\"id_llave\"]\n",
        "- Son anidables\n",
        "- Son mutables\n",
        "- Son equivalentes al tipo de dato JSON de lenguaje JavaScript (JS)"
      ]
    },
    {
      "cell_type": "code",
      "metadata": {
        "colab": {
          "base_uri": "https://localhost:8080/"
        },
        "id": "VmV2cMWt3xyo",
        "outputId": "28c53a9f-a6c8-482e-bbd8-deed1b9eb239"
      },
      "source": [
        "alumno = {\"nombre\" : \"José\"}\n",
        "print(alumno)\n",
        "print(alumno[\"nombre\"])\n",
        "alumno={\"nombre\":\"José\", \"nc\":\"2129229292\",\"edad\":18}\n",
        "print(\"Edad del alumno =\", alumno [\"edad\"])\n",
        "print(alumno[\"nombre\"].upper())\n",
        "\n",
        "print(\"Alumno 2;\")\n",
        "alumno2=dict() #{ }\n",
        "alumno2[\"nombre\"]=\"jose\"\n",
        "print(alumno2)\n",
        "alumno2[\"nc\"] =\"2129229292\"\n",
        "alumno2[\"edad\"] = 18\n",
        "print(alumno2)\n",
        "alumno2[\"edad\"]=alumno2[\"edad\"]+1\n",
        "print(alumno2)\n"
      ],
      "execution_count": null,
      "outputs": [
        {
          "output_type": "stream",
          "name": "stdout",
          "text": [
            "{'nombre': 'José'}\n",
            "José\n",
            "Edad del alumno = 18\n",
            "JOSÉ\n",
            "Alumno 2;\n",
            "{'nombre': 'jose'}\n",
            "{'nombre': 'jose', 'nc': '2129229292', 'edad': 18}\n",
            "{'nombre': 'jose', 'nc': '2129229292', 'edad': 19}\n"
          ]
        }
      ]
    },
    {
      "cell_type": "code",
      "metadata": {
        "colab": {
          "base_uri": "https://localhost:8080/"
        },
        "id": "a-9LFQ2a8KNm",
        "outputId": "d177eabb-ace8-426a-f07d-32da10a596da"
      },
      "source": [
        "cliente ={\"id\":\"CT2121\",\n",
        "          \"nombre\":\"José Pedroza Rosales\", \n",
        "          \"telefonos\":\"casa = 554456565 cel = 0445567767\"}\n",
        "print(cliente)\n",
        "cliente ={\"id\":\"CT2121\",\n",
        "          \"nombre\":{\n",
        "              \"nombres\":[\"Jose\"],\n",
        "              \"paterno\":\"Pedroza\",\n",
        "              \"materno\":\"Rosales\" \n",
        "          },\n",
        "          \"telefonos\":{\n",
        "              \"casa\":\"5566324234\",\n",
        "              \"trabajo\":\"554433232\",\n",
        "              \"celular\":\"04455234234\"\n",
        "          },\n",
        "          \"productos\":{\n",
        "              \"ahorro\":{\"numero_cuenta\":\"7788\",\"ahorro\":2500.5},\n",
        "              \"tarjetas\":[\n",
        "                           {\"tipo\":\"debito\",\"saldo\":10000.5},\n",
        "                           {\"tipo\":\"credito preferente\",\"limite\":250000.5},\n",
        "                           {\"tipo\":\"lite\",\"limite\":15000.5}\n",
        "              ]\n",
        "          },\n",
        "          \"dirrecion\":{\n",
        "              \"calle\":\"Av. central\",\n",
        "              \"numero\":1245,\n",
        "              \"colonia\":\"Impulsora\",\n",
        "              \"delegacion\":\"Nezahualcoyotl\",\n",
        "              \"estado\":{\n",
        "                         \"clave\":15,\n",
        "                         \"nombre_corto\":\"EdoMex\",\n",
        "                         \"nombre\":\"Estado de México\"\n",
        "              }\n",
        "          }\n",
        "\n",
        "          }\n",
        "print(cliente[\"telefonos\"][\"casa\"])\n",
        "print(cliente)\n",
        "print(cliente[\"productos\"][\"ahorro\"][\"ahorro\"])\n",
        "print(cliente[\"productos\"][\"tarjetas\"][2][\"limite\"])\n",
        "print(cliente[\"dirrecion\"][\"estado\"][\"nombre\"].upper())\n",
        "cliente[\"productos\"][\"ahorro\"][\"ahorro\"]-=1500.0\n",
        "print(cliente[\"productos\"])"
      ],
      "execution_count": 2,
      "outputs": [
        {
          "output_type": "stream",
          "name": "stdout",
          "text": [
            "{'id': 'CT2121', 'nombre': 'José Pedroza Rosales', 'telefonos': 'casa = 554456565 cel = 0445567767'}\n",
            "5566324234\n",
            "{'id': 'CT2121', 'nombre': {'nombres': ['Jose'], 'paterno': 'Pedroza', 'materno': 'Rosales'}, 'telefonos': {'casa': '5566324234', 'trabajo': '554433232', 'celular': '04455234234'}, 'productos': {'ahorro': {'numero_cuenta': '7788', 'ahorro': 2500.5}, 'tarjetas': [{'tipo': 'debito', 'saldo': 10000.5}, {'tipo': 'credito preferente', 'limite': 250000.5}, {'tipo': 'lite', 'limite': 15000.5}]}, 'dirrecion': {'calle': 'Av. central', 'numero': 1245, 'colonia': 'Impulsora', 'delegacion': 'Nezahualcoyotl', 'estado': {'clave': 15, 'nombre_corto': 'EdoMex', 'nombre': 'Estado de México'}}}\n",
            "2500.5\n",
            "15000.5\n",
            "ESTADO DE MÉXICO\n",
            "{'ahorro': {'numero_cuenta': '7788', 'ahorro': 1000.5}, 'tarjetas': [{'tipo': 'debito', 'saldo': 10000.5}, {'tipo': 'credito preferente', 'limite': 250000.5}, {'tipo': 'lite', 'limite': 15000.5}]}\n"
          ]
        }
      ]
    },
    {
      "cell_type": "code",
      "metadata": {
        "id": "Bjqp3Wl3JB8-"
      },
      "source": [
        "peli={\"pelicula\":\"Harry Potter\",\n",
        "      \"personajes\":{\n",
        "          \"per_1\":{\n",
        "              \"nombre\":\"Harry\"\n",
        "              \"apellido\":\"Potter\"\n",
        "              \"casa_howards\":\"Griffindor\"\n",
        "          }\n",
        "          \"per_2\":{\n",
        "              \"nombre\":\"Hermione\"\n",
        "              \"apellido\":\"Graner\"\n",
        "              \"casa_howards\":\"Griffindor\"\n",
        "          }\n",
        "          \"per_3\":{\n",
        "              \"nombre\":\n",
        "              \"apellido\":\n",
        "              \"casa_howards\":\"Griffindor\"\n",
        "          }\n",
        "        \"saga\":{\n",
        "            \"peli_1\":\"La piedra filosofal\"\n",
        "            \"peli_2\":\"La camara secreta\"\n",
        "            \"peli_3\":\"El prisonero de azkaban\"\n",
        "            \"peli_4\":\"El caliz de fuego\"\n",
        "\n",
        "        }\n",
        "      }"
      ],
      "execution_count": null,
      "outputs": []
    },
    {
      "cell_type": "markdown",
      "metadata": {
        "id": "5j-zldaaMkGz"
      },
      "source": [
        "# Estructuras de control de programación\n",
        "\n",
        "Se puede crear cualquier tipo de algoritmo solamente 3 estructuras de contrl:\n",
        "\n",
        "1. Secuencia:\n",
        "    - La representación de la memoria de programa (Arquitectura Vonn Newman)\n",
        "\n",
        "2. Selección:\n",
        "    - Es la estructura de control que decide si un bloque de programa se ejecuta o no se ejecuta. Tambien permite seleccionar ejecutar un bloquer entre un conjunto de opciones.\n",
        "    En resumente tenemos: Selección simple, selección con bifurcación y selección múltiple.\n",
        "\n",
        "3. Repetición:\n",
        "    - Este tipo de estructura nos permite automatizar la ejecución repetitiva de código mientras ciertas condiciones se cumplan, tenemos 3 variantes de esta estructura en todos los lenguajes de programación:\n",
        "      - Desde ... hasta (estructura for)\n",
        "      - Haz mientras (estructura while)\n",
        "      - Haz y luego validaz mientras (estructura Do-While)"
      ]
    },
    {
      "cell_type": "markdown",
      "metadata": {
        "id": "Yaxziz3yR9pC"
      },
      "source": [
        "# Selección simple\n",
        "-- Documentar, o poner notas\n",
        "\n",
        "la estructura if\n",
        "```\n",
        "if <CONDICION>:\n",
        "   <Cuerpo del if>\n",
        "```\n",
        "\n",
        "**NOTA** Para establecer el cuerpo de una estructura de control en Python se usan los tabuladores a la izq. \n",
        "\n",
        "En otros lenguajes de programación como java, c y c++... se usan las llaves { }\n",
        "\n",
        "```\n",
        "int edad =0;\n",
        "printf(\"Danme tu edad\");\n",
        "scanf(\"%i\",&edad);\n",
        "if(edad >= 18){\n",
        "   printf(\"ERES MAYOR DE EDAD\")\n",
        "}\n",
        "printf(\"Fin del programa\")\n",
        "```"
      ]
    },
    {
      "cell_type": "code",
      "metadata": {
        "colab": {
          "base_uri": "https://localhost:8080/"
        },
        "id": "2YGQ41fcR8m3",
        "outputId": "765e8228-a561-481e-d608-ab6d42a64ce7"
      },
      "source": [
        "edad=int(input(\"Dame tu edad: \"))\n",
        "print(f\"Tecleaste {edad} años\")\n",
        "if edad >= 18 :\n",
        "  print(\"Eres mayor de edad\".upper())\n",
        "  print(\"Algo\")\n",
        "  print(\"Otra cosa\")#los tabuladores se utilizan para las estructuras\n",
        "print(\"Fin del programa\")"
      ],
      "execution_count": 7,
      "outputs": [
        {
          "output_type": "stream",
          "name": "stdout",
          "text": [
            "Dame tu edad: 18\n",
            "Tecleaste 18 años\n",
            "ERES MAYOR DE EDAD\n",
            "Algo\n",
            "Otra cosa\n",
            "Fin del programa\n"
          ]
        }
      ]
    },
    {
      "cell_type": "code",
      "metadata": {
        "colab": {
          "base_uri": "https://localhost:8080/"
        },
        "id": "znvceAGqWQXW",
        "outputId": "8b6225a9-6eb7-4935-f386-118ed20095ff"
      },
      "source": [
        "CAL=float(input(\"CAL: \"))\n",
        "if CAL > 8:\n",
        "    print(\"Aprobado\")\n",
        "print (\"Fin del programa\")"
      ],
      "execution_count": 12,
      "outputs": [
        {
          "output_type": "stream",
          "name": "stdout",
          "text": [
            "CAL: 7.99\n",
            "Fin del programa\n"
          ]
        }
      ]
    },
    {
      "cell_type": "code",
      "metadata": {
        "colab": {
          "base_uri": "https://localhost:8080/"
        },
        "id": "dJV9i_hUXXOJ",
        "outputId": "aac33ffe-2823-4b6a-950d-ada13bcc675f"
      },
      "source": [
        "SUE=float(input(\"Dame tu sueldo: \"))\n",
        "if SUE < 1000:\n",
        "    AUM = SUE * 0.15\n",
        "    MSUE = SUE + AUM\n",
        "    print(f\"Tu sueldo actual es de: {MSUE}\")"
      ],
      "execution_count": 15,
      "outputs": [
        {
          "output_type": "stream",
          "name": "stdout",
          "text": [
            "Dame tu sueldo: 875.50\n",
            "Tu sueldo actual es de: 1006.825\n"
          ]
        }
      ]
    }
  ]
}