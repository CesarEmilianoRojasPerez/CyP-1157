{
  "nbformat": 4,
  "nbformat_minor": 0,
  "metadata": {
    "colab": {
      "name": "FUNDAMENTOS2_CyP_1157.ipynb",
      "provenance": [],
      "collapsed_sections": [],
      "authorship_tag": "ABX9TyOQ/HAGggeaDQb6kWb1Ed2d",
      "include_colab_link": true
    },
    "kernelspec": {
      "name": "python3",
      "display_name": "Python 3"
    },
    "language_info": {
      "name": "python"
    }
  },
  "cells": [
    {
      "cell_type": "markdown",
      "metadata": {
        "id": "view-in-github",
        "colab_type": "text"
      },
      "source": [
        "<a href=\"https://colab.research.google.com/github/CesarEmilianoRojasPerez/CyP-1157/blob/main/FUNDAMENTOS2_CyP_1157.ipynb\" target=\"_parent\"><img src=\"https://colab.research.google.com/assets/colab-badge.svg\" alt=\"Open In Colab\"/></a>"
      ]
    },
    {
      "cell_type": "markdown",
      "metadata": {
        "id": "DeYmPFyyFUZM"
      },
      "source": [
        "##Tipo de datos estructurados de Python\n",
        "\n",
        "1. Listas\n",
        "2. Tuplas\n",
        "3. Diccionarios\n",
        "4. Conjuntos (opcional)"
      ]
    },
    {
      "cell_type": "markdown",
      "metadata": {
        "id": "E1yl3iWPFnea"
      },
      "source": [
        "# Listas\n",
        "\n",
        "- Tipo de dato que agrupa variables o valores.\n",
        "- Estructura secuencial (Undexados empezando por 0)\n",
        "- Se declara de dos formas\n",
        "  - Usando [ ]\n",
        "  - Usando list()\n",
        "  - Usando generadores [Var for x in range (10)]\n",
        "- puesde contener tipod de dato diversos (En otros lenguajes de prog, eso no es posible de forma directa)\n",
        "- Los elementos internos se seleccionan con [ ]\n",
        "- Soporta slicing\n",
        "- SON MUTABLES\n",
        "- Al ser una clase, contiene muchos métodos utiles"
      ]
    },
    {
      "cell_type": "code",
      "metadata": {
        "colab": {
          "base_uri": "https://localhost:8080/"
        },
        "id": "8ePowKRqFR9_",
        "outputId": "97ad7afe-b3c1-4b9c-e207-828c3dc60fcd"
      },
      "source": [
        "numeros = [10, 5,2, 3, 1]\n",
        "print(numeros)\n",
        "\n",
        "numeros2 = list()\n",
        "numeros2.append(10)\n",
        "numeros2.append(5)\n",
        "numeros2.append(2)\n",
        "numeros2.append(3)\n",
        "numeros2.append(1)\n",
        "print(numeros2)\n",
        "\n",
        "numeros[2] = 20\n",
        "print(numeros)\n",
        "numeros[-1]=33\n",
        "numeros.append(88)\n",
        "print(numeros)"
      ],
      "execution_count": 17,
      "outputs": [
        {
          "output_type": "stream",
          "name": "stdout",
          "text": [
            "[10, 5, 2, 3, 1]\n",
            "[10, 5, 2, 3, 1]\n",
            "[10, 5, 20, 3, 1]\n",
            "[10, 5, 20, 3, 33, 88]\n"
          ]
        }
      ]
    },
    {
      "cell_type": "code",
      "metadata": {
        "colab": {
          "base_uri": "https://localhost:8080/"
        },
        "id": "kh8SHcDKIV7V",
        "outputId": "1dbae6a9-f182-4b59-9256-c0529d7434b0"
      },
      "source": [
        "# tipoos diversos\n",
        "\n",
        "cosas= [12, 2, True , \"José\", 1.57, [\"pera\",\"kiwi\",\"uva\"]]\n",
        "print(cosas)\n",
        "print(cosas[1])\n",
        "print(cosas[4])\n",
        "print(cosas[5])\n",
        "print(cosas[5][1])\n",
        "print(cosas[3][1:3:])\n",
        "cosas[3]=cosas[3].upper()\n",
        "print(cosas)\n",
        "\n"
      ],
      "execution_count": 19,
      "outputs": [
        {
          "output_type": "stream",
          "name": "stdout",
          "text": [
            "[12, 2, True, 'José', 1.57, ['pera', 'kiwi', 'uva']]\n",
            "2\n",
            "1.57\n",
            "['pera', 'kiwi', 'uva']\n",
            "kiwi\n",
            "os\n",
            "[12, 2, True, 'JOSÉ', 1.57, ['pera', 'kiwi', 'uva']]\n"
          ]
        }
      ]
    },
    {
      "cell_type": "code",
      "metadata": {
        "colab": {
          "base_uri": "https://localhost:8080/"
        },
        "id": "ak7v9wjRL04j",
        "outputId": "6d15bcd7-14a4-43b6-f622-cd42d57f75ac"
      },
      "source": [
        "numeros=[1,2,3,4,5,6,7,8,9,10,11]\n",
        "print(numeros)\n",
        "#slicing\n",
        "#1.- 4 al 8???\n",
        "print( numeros[3:8:])\n",
        "#1.- [9,10]\n",
        "print(numeros[8:10:])\n",
        "print(numeros[-3:-1:])\n",
        "#3.- imprimir la lista en orden inverso [11,10,9,etc., 1]\n",
        "print(numeros[::-1]) \n",
        "#cuando el incremento es un numero negativo, el incremento es al revez\n"
      ],
      "execution_count": 26,
      "outputs": [
        {
          "output_type": "stream",
          "name": "stdout",
          "text": [
            "[1, 2, 3, 4, 5, 6, 7, 8, 9, 10, 11]\n",
            "[4, 5, 6, 7, 8]\n",
            "[9, 10]\n",
            "[9, 10]\n",
            "[11, 10, 9, 8, 7, 6, 5, 4, 3, 2, 1]\n"
          ]
        }
      ]
    },
    {
      "cell_type": "code",
      "metadata": {
        "colab": {
          "base_uri": "https://localhost:8080/"
        },
        "id": "Zmp7655LPfC8",
        "outputId": "c2b6c848-afbc-406f-e17d-ccf0f005b306"
      },
      "source": [
        "#Crear una lista con un generador\n",
        "numeros = [ x*3 for x in range(101)]\n",
        "print(numeros)"
      ],
      "execution_count": 34,
      "outputs": [
        {
          "output_type": "stream",
          "name": "stdout",
          "text": [
            "[0, 3, 6, 9, 12, 15, 18, 21, 24, 27, 30, 33, 36, 39, 42, 45, 48, 51, 54, 57, 60, 63, 66, 69, 72, 75, 78, 81, 84, 87, 90, 93, 96, 99, 102, 105, 108, 111, 114, 117, 120, 123, 126, 129, 132, 135, 138, 141, 144, 147, 150, 153, 156, 159, 162, 165, 168, 171, 174, 177, 180, 183, 186, 189, 192, 195, 198, 201, 204, 207, 210, 213, 216, 219, 222, 225, 228, 231, 234, 237, 240, 243, 246, 249, 252, 255, 258, 261, 264, 267, 270, 273, 276, 279, 282, 285, 288, 291, 294, 297, 300]\n"
          ]
        }
      ]
    },
    {
      "cell_type": "markdown",
      "metadata": {
        "id": "6kIvv8XZQTqL"
      },
      "source": [
        "# Función range()\n",
        "\n",
        "Tiene los mismos componentes que slincing\n",
        "\n",
        "ini, stop, incremento\n",
        "\n",
        "range(1,101,1)"
      ]
    },
    {
      "cell_type": "code",
      "metadata": {
        "colab": {
          "base_uri": "https://localhost:8080/"
        },
        "id": "Zd7zrOl4QrXR",
        "outputId": "26378b3e-dc44-470b-8a48-d3f3c12efbd9"
      },
      "source": [
        "numeros = [ x for x in range(50,101,5)]\n",
        "print(numeros)"
      ],
      "execution_count": 39,
      "outputs": [
        {
          "output_type": "stream",
          "name": "stdout",
          "text": [
            "[50, 55, 60, 65, 70, 75, 80, 85, 90, 95, 100]\n"
          ]
        }
      ]
    },
    {
      "cell_type": "markdown",
      "metadata": {
        "id": "vsaSdkQyRE-G"
      },
      "source": [
        "## Metodos disponibles de las listas"
      ]
    },
    {
      "cell_type": "code",
      "metadata": {
        "colab": {
          "base_uri": "https://localhost:8080/"
        },
        "id": "QUjyirZ3RJv2",
        "outputId": "2dfb2517-7d92-44d9-952d-db237d940c1b"
      },
      "source": [
        "dir(list)"
      ],
      "execution_count": 40,
      "outputs": [
        {
          "output_type": "execute_result",
          "data": {
            "text/plain": [
              "['__add__',\n",
              " '__class__',\n",
              " '__contains__',\n",
              " '__delattr__',\n",
              " '__delitem__',\n",
              " '__dir__',\n",
              " '__doc__',\n",
              " '__eq__',\n",
              " '__format__',\n",
              " '__ge__',\n",
              " '__getattribute__',\n",
              " '__getitem__',\n",
              " '__gt__',\n",
              " '__hash__',\n",
              " '__iadd__',\n",
              " '__imul__',\n",
              " '__init__',\n",
              " '__init_subclass__',\n",
              " '__iter__',\n",
              " '__le__',\n",
              " '__len__',\n",
              " '__lt__',\n",
              " '__mul__',\n",
              " '__ne__',\n",
              " '__new__',\n",
              " '__reduce__',\n",
              " '__reduce_ex__',\n",
              " '__repr__',\n",
              " '__reversed__',\n",
              " '__rmul__',\n",
              " '__setattr__',\n",
              " '__setitem__',\n",
              " '__sizeof__',\n",
              " '__str__',\n",
              " '__subclasshook__',\n",
              " 'append',\n",
              " 'clear',\n",
              " 'copy',\n",
              " 'count',\n",
              " 'extend',\n",
              " 'index',\n",
              " 'insert',\n",
              " 'pop',\n",
              " 'remove',\n",
              " 'reverse',\n",
              " 'sort']"
            ]
          },
          "metadata": {},
          "execution_count": 40
        }
      ]
    },
    {
      "cell_type": "code",
      "metadata": {
        "colab": {
          "base_uri": "https://localhost:8080/"
        },
        "id": "mty4MEOESUwP",
        "outputId": "1f76d02a-ad48-4d5f-8437-8fd1523cef08"
      },
      "source": [
        "numeros=[4,1,15,8,22,34,50]\n",
        "print(numeros)\n",
        "numeros.append(99)\n",
        "print(numeros)\n",
        "#numeros.clear()\n",
        "numeros = []\n",
        "print(numeros)\n",
        "\n",
        "frutas = [\"Uvas\",\"Kiwi\",\"Manzana\"]\n",
        "copia=frutas\n",
        "print(frutas)\n",
        "print(copia)\n",
        "frutas.append(\"Naranja\")\n",
        "print(frutas)\n",
        "print(copia)\n",
        "\n",
        "colores=[\"Rojo\", \"Azul\", \"Blanco\"]\n",
        "copia2= colores.copy()\n",
        "print(colores)\n",
        "print(copia2)\n",
        "colores.append(\"Verde\")\n",
        "print(colores)\n",
        "print(copia2)\n",
        "\n",
        "numeros=[4,1,15,15,8,22,34,50]\n",
        "print(\"Numero de veces que aparece el 15:\", numeros.count(15))\n",
        "\n",
        "#Extend\n",
        "nombres=[\"Jose\",\"Pedro\",\"Karina\"]\n",
        "onombres=[\"Josue\",\"Diana\",\"Dalia\"]\n",
        "print(nombres)\n",
        "print(onombres)\n",
        "nombres= nombres + onombres\n",
        "print(nombres)\n",
        "print(onombres)\n",
        "\n",
        "#lo mismo con el metodo extend\n",
        "onombres.extend([\"Jesus\",\"Maria\",\"Jose\"])\n",
        "print(onombres)\n",
        "print(\"Jesus esta en la posición:\", onombres.index(\"Jesus\"))\n",
        "onombres.insert(4,\"Espiritu Santo\")\n",
        "print(onombres)\n",
        "\n",
        "#pop\n",
        "resultado=onombres.pop()\n",
        "print(onombres)\n",
        "print(resultado)"
      ],
      "execution_count": 58,
      "outputs": [
        {
          "output_type": "stream",
          "name": "stdout",
          "text": [
            "[4, 1, 15, 8, 22, 34, 50]\n",
            "[4, 1, 15, 8, 22, 34, 50, 99]\n",
            "[]\n",
            "['Uvas', 'Kiwi', 'Manzana']\n",
            "['Uvas', 'Kiwi', 'Manzana']\n",
            "['Uvas', 'Kiwi', 'Manzana', 'Naranja']\n",
            "['Uvas', 'Kiwi', 'Manzana', 'Naranja']\n",
            "['Rojo', 'Azul', 'Blanco']\n",
            "['Rojo', 'Azul', 'Blanco']\n",
            "['Rojo', 'Azul', 'Blanco', 'Verde']\n",
            "['Rojo', 'Azul', 'Blanco']\n",
            "Numero de veces que aparece el 15: 2\n",
            "['Jose', 'Pedro', 'Karina']\n",
            "['Josue', 'Diana', 'Dalia']\n",
            "['Jose', 'Pedro', 'Karina', 'Josue', 'Diana', 'Dalia']\n",
            "['Josue', 'Diana', 'Dalia']\n",
            "['Josue', 'Diana', 'Dalia', 'Jesus', 'Maria', 'Jose']\n",
            "Jesus esta en la posición: 3\n",
            "['Josue', 'Diana', 'Dalia', 'Jesus', 'Espiritu Santo', 'Maria', 'Jose']\n",
            "['Josue', 'Diana', 'Dalia', 'Jesus', 'Espiritu Santo', 'Maria']\n",
            "Jose\n"
          ]
        }
      ]
    }
  ]
}