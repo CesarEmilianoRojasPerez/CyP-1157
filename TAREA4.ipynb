{
  "nbformat": 4,
  "nbformat_minor": 0,
  "metadata": {
    "colab": {
      "name": "TAREA4.ipynb",
      "provenance": [],
      "authorship_tag": "ABX9TyMsMW8/d6AYsxDaYOyjgTUi",
      "include_colab_link": true
    },
    "kernelspec": {
      "name": "python3",
      "display_name": "Python 3"
    },
    "language_info": {
      "name": "python"
    }
  },
  "cells": [
    {
      "cell_type": "markdown",
      "metadata": {
        "id": "view-in-github",
        "colab_type": "text"
      },
      "source": [
        "<a href=\"https://colab.research.google.com/github/CesarEmilianoRojasPerez/CyP-1157/blob/main/TAREA4.ipynb\" target=\"_parent\"><img src=\"https://colab.research.google.com/assets/colab-badge.svg\" alt=\"Open In Colab\"/></a>"
      ]
    },
    {
      "cell_type": "code",
      "metadata": {
        "colab": {
          "base_uri": "https://localhost:8080/"
        },
        "id": "gvxXduL2KeXv",
        "outputId": "06f38382-a4f9-4901-bd9e-a40a86c9d373"
      },
      "source": [
        "c=\"CCCCCC\\nC\\nC\\nC\\nCCCCCC\"\n",
        "e=\"EEEEEE\\nE\\nEEE\\nE\\nEEEEEE\"\n",
        "s=\" SSSSS\\nS\\n SSSS\\n     S\\nSSSSS \"\n",
        "a=\" AAAA \\nA    A\\nAAAAAA\\nA    A\\nA    A\"\n",
        "r=\"RRRRR \\nR    R\\nRRRRR \\nR   R \\nR    R\"\n",
        "print(c, end=\"\\n\\n\")\n",
        "print(e, end=\"\\n\\n\")\n",
        "print(s, end=\"\\n\\n\")\n",
        "print(a, end=\"\\n\\n\")\n",
        "print(r)"
      ],
      "execution_count": null,
      "outputs": [
        {
          "output_type": "stream",
          "name": "stdout",
          "text": [
            "CCCCCC\n",
            "C\n",
            "C\n",
            "C\n",
            "CCCCCC\n",
            "\n",
            "EEEEEE\n",
            "E\n",
            "EEE\n",
            "E\n",
            "EEEEEE\n",
            "\n",
            " SSSSS\n",
            "S\n",
            " SSSS\n",
            "     S\n",
            "SSSSS \n",
            "\n",
            " AAAA \n",
            "A    A\n",
            "AAAAAA\n",
            "A    A\n",
            "A    A\n",
            "\n",
            "RRRRR \n",
            "R    R\n",
            "RRRRR \n",
            "R   R \n",
            "R    R\n"
          ]
        }
      ]
    },
    {
      "cell_type": "code",
      "metadata": {
        "colab": {
          "base_uri": "https://localhost:8080/"
        },
        "id": "T5psZzxHJjXZ",
        "outputId": "feecbcf6-a666-42e9-89b9-ce151903a28a"
      },
      "source": [
        "c=\"CCCCCC\\nC\\nC\\nC\\nCCCCCC\"\n",
        "e=\"EEEEEE\\nE\\nEEE\\nE\\nEEEEEE\"\n",
        "s=\" SSSSS\\nS\\n SSSS\\n     S\\nSSSSS \"\n",
        "a=\" AAAA \\nA    A\\nAAAAAA\\nA    A\\nA    A\"\n",
        "r=\"RRRRR \\nR    R\\nRRRRR \\nR   R \\nR    R\"\n",
        "print(f\"{str(c)}\\n\\n{str(e)}\\n\\n{str(s)}\\n\\n{str(a)}\\n\\n{str(r)}\")"
      ],
      "execution_count": 27,
      "outputs": [
        {
          "output_type": "stream",
          "name": "stdout",
          "text": [
            "CCCCCC\n",
            "C\n",
            "C\n",
            "C\n",
            "CCCCCC\n",
            "\n",
            "EEEEEE\n",
            "E\n",
            "EEE\n",
            "E\n",
            "EEEEEE\n",
            "\n",
            " SSSSS\n",
            "S\n",
            " SSSS\n",
            "     S\n",
            "SSSSS \n",
            "\n",
            " AAAA \n",
            "A    A\n",
            "AAAAAA\n",
            "A    A\n",
            "A    A\n",
            "\n",
            "RRRRR \n",
            "R    R\n",
            "RRRRR \n",
            "R   R \n",
            "R    R\n"
          ]
        }
      ]
    },
    {
      "cell_type": "code",
      "metadata": {
        "colab": {
          "base_uri": "https://localhost:8080/"
        },
        "id": "BgsciiPW8L-a",
        "outputId": "3a7a3614-1545-4962-82f6-e6cafa72fd80"
      },
      "source": [
        "c=\"CCCCCC\\nC\\nC\\nC\\nCCCCCC\"\n",
        "e=\"\\tEEEEEE\\n\\tE\\n\\tEEE\\n\\tE\\n\\tEEEEEE\"\n",
        "s=\"\\t SSSSS\\n\\t\\tS\\n\\t\\t SSSS\\n\\t\\t     S\\n\\t\\tSSSSS \"\n",
        "a=\"\\t AAAA \\n\\t\\t\\tA    A\\n\\t\\t\\tAAAAAA\\n\\t\\t\\tA    A\\n\\t\\t\\tA    A\"\n",
        "r=\"\\tRRRRR \\n\\t\\t\\t\\tR    R\\n\\t\\t\\t\\tRRRRR \\n\\t\\t\\t\\tR   R \\n\\t\\t\\t\\tR    R\"\n",
        "print(str(c)+str(e)+str(s)+str(a)+str(r))"
      ],
      "execution_count": 26,
      "outputs": [
        {
          "output_type": "stream",
          "name": "stdout",
          "text": [
            "CCCCCC\n",
            "C\n",
            "C\n",
            "C\n",
            "CCCCCC\tEEEEEE\n",
            "\tE\n",
            "\tEEE\n",
            "\tE\n",
            "\tEEEEEE\t SSSSS\n",
            "\t\tS\n",
            "\t\t SSSS\n",
            "\t\t     S\n",
            "\t\tSSSSS \t AAAA \n",
            "\t\t\tA    A\n",
            "\t\t\tAAAAAA\n",
            "\t\t\tA    A\n",
            "\t\t\tA    A\tRRRRR \n",
            "\t\t\t\tR    R\n",
            "\t\t\t\tRRRRR \n",
            "\t\t\t\tR   R \n",
            "\t\t\t\tR    R\n"
          ]
        }
      ]
    },
    {
      "cell_type": "code",
      "metadata": {
        "colab": {
          "base_uri": "https://localhost:8080/"
        },
        "id": "SRogwQ6AHBOc",
        "outputId": "78693dd0-bd7a-47e7-a217-981f8fee9dd8"
      },
      "source": [
        "primero = \"CCCCCC\\tEEEEEE\\t SSSSS\\t AAAA \\tRRRRR \"\n",
        "segundo = \"C     \\tE     \\tS     \\tA    A\\tR    R\"\n",
        "tercero = \"C     \\tEEE   \\t SSSS \\tAAAAAA\\tRRRRR \"\n",
        "cuarto  = \"C     \\tE     \\t     S\\tA    A\\tR   R \"\n",
        "quinto  = \"CCCCCC\\tEEEEEE\\tSSSSS \\tA    A\\tR    R\"\n",
        "print(primero+\"\\n\"+segundo+\"\\n\"+tercero+\"\\n\"+cuarto+\"\\n\"+quinto)"
      ],
      "execution_count": 34,
      "outputs": [
        {
          "output_type": "stream",
          "name": "stdout",
          "text": [
            "CCCCCC\tEEEEEE\t SSSSS\t AAAA \tRRRRR \n",
            "C     \tE     \tS     \tA    A\tR    R\n",
            "C     \tEEE   \t SSSS \tAAAAAA\tRRRRR \n",
            "C     \tE     \t     S\tA    A\tR   R \n",
            "CCCCCC\tEEEEEE\tSSSSS \tA    A\tR    R\n"
          ]
        }
      ]
    },
    {
      "cell_type": "code",
      "metadata": {
        "colab": {
          "base_uri": "https://localhost:8080/"
        },
        "id": "E0mhGVVJQZaj",
        "outputId": "5c648006-2e05-4aeb-d0e3-d26d0e64dcac"
      },
      "source": [
        "pri= \"CCCCCC\\tEEEEEE\\t SSSSS\\t AAAA \\tRRRRR \"\n",
        "seg= \"C     \\tE     \\tS     \\tA    A\\tR    R\"\n",
        "ter= \"C     \\tEEE   \\t SSSS \\tAAAAAA\\tRRRRR \"\n",
        "cua= \"C     \\tE     \\t     S\\tA    A\\tR   R \"\n",
        "qui= \"CCCCCC\\tEEEEEE\\tSSSSS \\tA    A\\tR    R\"\n",
        "print(\"{0}\\n{1}\\n{2}\\n{3}\\n{4}\".format(pri,seg,ter,cua,qui))"
      ],
      "execution_count": 35,
      "outputs": [
        {
          "output_type": "stream",
          "name": "stdout",
          "text": [
            "CCCCCC\tEEEEEE\t SSSSS\t AAAA \tRRRRR \n",
            "C     \tE     \tS     \tA    A\tR    R\n",
            "C     \tEEE   \t SSSS \tAAAAAA\tRRRRR \n",
            "C     \tE     \t     S\tA    A\tR   R \n",
            "CCCCCC\tEEEEEE\tSSSSS \tA    A\tR    R\n"
          ]
        }
      ]
    }
  ]
}