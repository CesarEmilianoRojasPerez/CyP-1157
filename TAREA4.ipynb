{
  "nbformat": 4,
  "nbformat_minor": 0,
  "metadata": {
    "colab": {
      "name": "TAREA4.ipynb",
      "provenance": [],
      "collapsed_sections": [],
      "authorship_tag": "ABX9TyNQgj7T5KRR4pvCqJHhaElW",
      "include_colab_link": true
    },
    "kernelspec": {
      "name": "python3",
      "display_name": "Python 3"
    },
    "language_info": {
      "name": "python"
    }
  },
  "cells": [
    {
      "cell_type": "markdown",
      "metadata": {
        "id": "view-in-github",
        "colab_type": "text"
      },
      "source": [
        "<a href=\"https://colab.research.google.com/github/CesarEmilianoRojasPerez/CyP-1157/blob/main/TAREA4.ipynb\" target=\"_parent\"><img src=\"https://colab.research.google.com/assets/colab-badge.svg\" alt=\"Open In Colab\"/></a>"
      ]
    },
    {
      "cell_type": "code",
      "metadata": {
        "colab": {
          "base_uri": "https://localhost:8080/"
        },
        "id": "OL_lt_on5h4J",
        "outputId": "0637caf9-7956-4289-b3c2-b20fbcee8c4a"
      },
      "source": [
        "print(\"Tarea 4\\t\\tRojas Perez César Emiliano\")"
      ],
      "execution_count": null,
      "outputs": [
        {
          "output_type": "stream",
          "name": "stdout",
          "text": [
            "Tarea 4\t\tRojas Perez César Emiliano\n"
          ]
        }
      ]
    },
    {
      "cell_type": "code",
      "metadata": {
        "colab": {
          "base_uri": "https://localhost:8080/"
        },
        "id": "gvxXduL2KeXv",
        "outputId": "9e9b00d1-47f2-4988-95da-8a818509a35a"
      },
      "source": [
        "print(\"Tarea 4\\t\\tRojas Perez César Emiliano\")\n",
        "c=\"CCCCCC\\nC\\nC\\nC\\nCCCCCC\"\n",
        "e=\"EEEEEE\\nE\\nEEE\\nE\\nEEEEEE\"\n",
        "s=\" SSSSS\\nS\\n SSSS\\n    S\\nSSSSS\"\n",
        "a=\" AAAA\\nA    A\\nAAAAAA\\nA    A\\nA    A\"\n",
        "r=\"RRRRR\\nR    R\\nRRRRR\\nR   R\\nR    R\"\n",
        "print(c, end=\"\\n\\n\")\n",
        "print(e, end=\"\\n\\n\")\n",
        "print(s, end=\"\\n\\n\")\n",
        "print(a, end=\"\\n\\n\")\n",
        "print(r)"
      ],
      "execution_count": 2,
      "outputs": [
        {
          "output_type": "stream",
          "name": "stdout",
          "text": [
            "Tarea 4\t\tRojas Perez César Emiliano\n",
            "CCCCCC\n",
            "C\n",
            "C\n",
            "C\n",
            "CCCCCC\n",
            "\n",
            "EEEEEE\n",
            "E\n",
            "EEE\n",
            "E\n",
            "EEEEEE\n",
            "\n",
            " SSSSS\n",
            "S\n",
            " SSSS\n",
            "    S\n",
            "SSSSS\n",
            "\n",
            " AAAA\n",
            "A    A\n",
            "AAAAAA\n",
            "A    A\n",
            "A    A\n",
            "\n",
            "RRRRR\n",
            "R    R\n",
            "RRRRR\n",
            "R   R\n",
            "R    R\n"
          ]
        }
      ]
    },
    {
      "cell_type": "code",
      "metadata": {
        "colab": {
          "base_uri": "https://localhost:8080/"
        },
        "id": "T5psZzxHJjXZ",
        "outputId": "feecbcf6-a666-42e9-89b9-ce151903a28a"
      },
      "source": [
        "c=\"CCCCCC\\nC\\nC\\nC\\nCCCCCC\"\n",
        "e=\"EEEEEE\\nE\\nEEE\\nE\\nEEEEEE\"\n",
        "s=\" SSSSS\\nS\\n SSSS\\n     S\\nSSSSS\"\n",
        "a=\" AAAA\\nA    A\\nAAAAAA\\nA    A\\nA    A\"\n",
        "r=\"RRRRR\\nR    R\\nRRRRR\\nR   R\\nR    R\"\n",
        "print(f\"{str(c)}\\n\\n{str(e)}\\n\\n{str(s)}\\n\\n{str(a)}\\n\\n{str(r)}\")"
      ],
      "execution_count": null,
      "outputs": [
        {
          "output_type": "stream",
          "name": "stdout",
          "text": [
            "CCCCCC\n",
            "C\n",
            "C\n",
            "C\n",
            "CCCCCC\n",
            "\n",
            "EEEEEE\n",
            "E\n",
            "EEE\n",
            "E\n",
            "EEEEEE\n",
            "\n",
            " SSSSS\n",
            "S\n",
            " SSSS\n",
            "     S\n",
            "SSSSS \n",
            "\n",
            " AAAA \n",
            "A    A\n",
            "AAAAAA\n",
            "A    A\n",
            "A    A\n",
            "\n",
            "RRRRR \n",
            "R    R\n",
            "RRRRR \n",
            "R   R \n",
            "R    R\n"
          ]
        }
      ]
    },
    {
      "cell_type": "code",
      "metadata": {
        "colab": {
          "base_uri": "https://localhost:8080/"
        },
        "id": "BgsciiPW8L-a",
        "outputId": "2a45375b-5255-40ff-a5fb-d69f9b591d54"
      },
      "source": [
        "c=\"CCCCCC\\nC\\nC\\nC\\nCCCCCC\"\n",
        "e=\"\\tEEEEEE\\n\\tE\\n\\tEEE\\n\\tE\\n\\tEEEEEE\"\n",
        "s=\"\\t SSSSS\\n\\t\\tS\\n\\t\\t SSSS\\n\\t\\t     S\\n\\t\\tSSSSS\"\n",
        "a=\"\\t AAAA\\n\\t\\t\\tA    A\\n\\t\\t\\tAAAAAA\\n\\t\\t\\tA    A\\n\\t\\t\\tA    A\"\n",
        "r=\"\\tRRRRR\\n\\t\\t\\t\\tR    R\\n\\t\\t\\t\\tRRRRR\\n\\t\\t\\t\\tR   R\\n\\t\\t\\t\\tR    R\"\n",
        "print(str(c)+str(e)+str(s)+str(a)+str(r))"
      ],
      "execution_count": 3,
      "outputs": [
        {
          "output_type": "stream",
          "name": "stdout",
          "text": [
            "CCCCCC\n",
            "C\n",
            "C\n",
            "C\n",
            "CCCCCC\tEEEEEE\n",
            "\tE\n",
            "\tEEE\n",
            "\tE\n",
            "\tEEEEEE\t SSSSS\n",
            "\t\tS\n",
            "\t\t SSSS\n",
            "\t\t     S\n",
            "\t\tSSSSS\t AAAA\n",
            "\t\t\tA    A\n",
            "\t\t\tAAAAAA\n",
            "\t\t\tA    A\n",
            "\t\t\tA    A\tRRRRR\n",
            "\t\t\t\tR    R\n",
            "\t\t\t\tRRRRR\n",
            "\t\t\t\tR   R\n",
            "\t\t\t\tR    R\n"
          ]
        }
      ]
    },
    {
      "cell_type": "code",
      "metadata": {
        "colab": {
          "base_uri": "https://localhost:8080/"
        },
        "id": "SRogwQ6AHBOc",
        "outputId": "78693dd0-bd7a-47e7-a217-981f8fee9dd8"
      },
      "source": [
        "primero = \"CCCCCC\\tEEEEEE\\t SSSSS\\t AAAA \\tRRRRR\"\n",
        "segundo = \"C     \\tE     \\tS     \\tA    A\\tR    R\"\n",
        "tercero = \"C     \\tEEE   \\t SSSS \\tAAAAAA\\tRRRRR\"\n",
        "cuarto  = \"C     \\tE     \\t     S\\tA    A\\tR   R\"\n",
        "quinto  = \"CCCCCC\\tEEEEEE\\tSSSSS \\tA    A\\tR    R\"\n",
        "print(primero+\"\\n\"+segundo+\"\\n\"+tercero+\"\\n\"+cuarto+\"\\n\"+quinto)"
      ],
      "execution_count": null,
      "outputs": [
        {
          "output_type": "stream",
          "name": "stdout",
          "text": [
            "CCCCCC\tEEEEEE\t SSSSS\t AAAA \tRRRRR \n",
            "C     \tE     \tS     \tA    A\tR    R\n",
            "C     \tEEE   \t SSSS \tAAAAAA\tRRRRR \n",
            "C     \tE     \t     S\tA    A\tR   R \n",
            "CCCCCC\tEEEEEE\tSSSSS \tA    A\tR    R\n"
          ]
        }
      ]
    },
    {
      "cell_type": "code",
      "metadata": {
        "colab": {
          "base_uri": "https://localhost:8080/"
        },
        "id": "E0mhGVVJQZaj",
        "outputId": "5c648006-2e05-4aeb-d0e3-d26d0e64dcac"
      },
      "source": [
        "pri= \"CCCCCC\\tEEEEEE\\t SSSSS\\t AAAA \\tRRRRR\"\n",
        "seg= \"C     \\tE     \\tS     \\tA    A\\tR    R\"\n",
        "ter= \"C     \\tEEE   \\t SSSS \\tAAAAAA\\tRRRRR\"\n",
        "cua= \"C     \\tE     \\t     S\\tA    A\\tR   R\"\n",
        "qui= \"CCCCCC\\tEEEEEE\\tSSSSS \\tA    A\\tR    R\"\n",
        "print(\"{0}\\n{1}\\n{2}\\n{3}\\n{4}\".format(pri,seg,ter,cua,qui))"
      ],
      "execution_count": null,
      "outputs": [
        {
          "output_type": "stream",
          "name": "stdout",
          "text": [
            "CCCCCC\tEEEEEE\t SSSSS\t AAAA \tRRRRR \n",
            "C     \tE     \tS     \tA    A\tR    R\n",
            "C     \tEEE   \t SSSS \tAAAAAA\tRRRRR \n",
            "C     \tE     \t     S\tA    A\tR   R \n",
            "CCCCCC\tEEEEEE\tSSSSS \tA    A\tR    R\n"
          ]
        }
      ]
    }
  ]
}