{
  "nbformat": 4,
  "nbformat_minor": 0,
  "metadata": {
    "colab": {
      "name": "TAREA4.ipynb",
      "provenance": [],
      "authorship_tag": "ABX9TyOyUQal/9i5GKb0QvIw7upr",
      "include_colab_link": true
    },
    "kernelspec": {
      "name": "python3",
      "display_name": "Python 3"
    },
    "language_info": {
      "name": "python"
    }
  },
  "cells": [
    {
      "cell_type": "markdown",
      "metadata": {
        "id": "view-in-github",
        "colab_type": "text"
      },
      "source": [
        "<a href=\"https://colab.research.google.com/github/CesarEmilianoRojasPerez/CyP-1157/blob/main/TAREA4.ipynb\" target=\"_parent\"><img src=\"https://colab.research.google.com/assets/colab-badge.svg\" alt=\"Open In Colab\"/></a>"
      ]
    },
    {
      "cell_type": "code",
      "metadata": {
        "colab": {
          "base_uri": "https://localhost:8080/"
        },
        "id": "gvxXduL2KeXv",
        "outputId": "3443160e-cc22-476c-bafb-f4bffab60e1d"
      },
      "source": [
        "c=\"CCCCCC\\nC\\nC\\nC\\nCCCCCC\"\n",
        "e=\"EEEEEE\\nE\\nEEE\\nE\\nEEEEEE\"\n",
        "s=\" SSSSS\\nS\\n SSSS\\n     S\\nSSSSS \"\n",
        "a=\" AAAA \\nA    A\\nAAAAAA\\nA    A\\nA    A\"\n",
        "r=\"RRRRR \\nR    R\\nRRRRR \\nR   R \\nR    R\"\n",
        "print(c, end=\"\\n\\n\")\n",
        "print(e, end=\"\\n\\n\")\n",
        "print(s, end=\"\\n\\n\")\n",
        "print(a, end=\"\\n\\n\")\n",
        "print(r)"
      ],
      "execution_count": 4,
      "outputs": [
        {
          "output_type": "stream",
          "name": "stdout",
          "text": [
            "CCCCCC\n",
            "C\n",
            "C\n",
            "C\n",
            "CCCCCC\n",
            "\n",
            "EEEEEE\n",
            "E\n",
            "EEE\n",
            "E\n",
            "EEEEEE\n",
            "\n",
            " SSSSS\n",
            "S\n",
            " SSSS\n",
            "     S\n",
            "SSSSS \n",
            "\n",
            " AAAA \n",
            "A    A\n",
            "AAAAAA\n",
            "A    A\n",
            "A    A\n",
            "\n",
            "RRRRR \n",
            "R    R\n",
            "RRRRR \n",
            "R   R \n",
            "R    R\n"
          ]
        }
      ]
    },
    {
      "cell_type": "code",
      "metadata": {
        "colab": {
          "base_uri": "https://localhost:8080/"
        },
        "id": "BgsciiPW8L-a",
        "outputId": "b8e7fd4c-ef09-4161-900d-d978cec289cc"
      },
      "source": [
        "c=\"CCCCCC\\nC\\nC\\nC\\nCCCCCC\"\n",
        "e=\"EEEEEE\\nE\\nEEE\\nE\\nEEEEEE\"\n",
        "s=\" SSSSS\\nS\\n SSSS\\n     S\\nSSSSS \"\n",
        "a=\" AAAA \\nA    A\\nAAAAAA\\nA    A\\nA    A\"\n",
        "r=\"RRRRR \\nR    R\\nRRRRR \\nR   R \\nR    R\"\n",
        "print(c+ \"\\n\\n\" +e+\"\\n\\n\"+s+\"\\n\\n\"+a+\"\\n\\n\"+r)"
      ],
      "execution_count": 1,
      "outputs": [
        {
          "output_type": "stream",
          "name": "stdout",
          "text": [
            "CCCCCC\n",
            "C\n",
            "C\n",
            "C\n",
            "CCCCCC\n",
            "\n",
            "EEEEEE\n",
            "E\n",
            "EEE\n",
            "E\n",
            "EEEEEE\n",
            "\n",
            " SSSSS\n",
            "S\n",
            " SSSS\n",
            "     S\n",
            "SSSSS \n",
            "\n",
            " AAAA \n",
            "A    A\n",
            "AAAAAA\n",
            "A    A\n",
            "A    A\n",
            "\n",
            "RRRRR \n",
            "R    R\n",
            "RRRRR \n",
            "R   R \n",
            "R    R\n",
            "CCCCCC\n",
            "C\n",
            "C\n",
            "C\n",
            "CCCCCC"
          ]
        }
      ]
    },
    {
      "cell_type": "code",
      "metadata": {
        "colab": {
          "base_uri": "https://localhost:8080/"
        },
        "id": "SRogwQ6AHBOc",
        "outputId": "528b6587-0c7f-4b50-a4c9-7defbc078128"
      },
      "source": [
        "primero = \"CCCCCC\\tEEEEEE\\t SSSSS\\t AAAA \\tRRRRR \"\n",
        "segundo = \"C     \\tE     \\tS     \\tA    A\\tR    R\"\n",
        "tercero = \"C     \\tEEE   \\t SSSS \\tAAAAAA\\tRRRRR \"\n",
        "cuarto  = \"C     \\tE     \\t     S\\tA    A\\tR   R \"\n",
        "quinto  = \"CCCCCC\\tEEEEEE\\tSSSSS \\tA    A\\tR    R\"\n",
        "print(primero+\"\\n\"+segundo+\"\\n\"+tercero+\"\\n\"+cuarto+\"\\n\"+quinto)"
      ],
      "execution_count": null,
      "outputs": [
        {
          "output_type": "stream",
          "name": "stdout",
          "text": [
            "CCCCCC\tEEEEEE\t SSSSS\t AAAA \tRRRRR \n",
            "C     \tE     \tS     \tA    A\tR    R\n",
            "C     \tEEE   \t SSSS \tAAAAAA\tRRRRR \n",
            "C     \tE     \t     S\tA    A\tR   R \n",
            "CCCCCC\tEEEEEE\tSSSSS \tA    A\tR    R\n"
          ]
        }
      ]
    }
  ]
}