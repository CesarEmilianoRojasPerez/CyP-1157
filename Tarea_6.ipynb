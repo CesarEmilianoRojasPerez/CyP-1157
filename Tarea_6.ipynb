{
  "nbformat": 4,
  "nbformat_minor": 0,
  "metadata": {
    "colab": {
      "name": "Tarea 6.ipynb",
      "provenance": [],
      "collapsed_sections": [],
      "authorship_tag": "ABX9TyPEpBXXQvYGwS0fFKhukvBJ",
      "include_colab_link": true
    },
    "kernelspec": {
      "name": "python3",
      "display_name": "Python 3"
    },
    "language_info": {
      "name": "python"
    }
  },
  "cells": [
    {
      "cell_type": "markdown",
      "metadata": {
        "id": "view-in-github",
        "colab_type": "text"
      },
      "source": [
        "<a href=\"https://colab.research.google.com/github/CesarEmilianoRojasPerez/CyP-1157/blob/main/Tarea_6.ipynb\" target=\"_parent\"><img src=\"https://colab.research.google.com/assets/colab-badge.svg\" alt=\"Open In Colab\"/></a>"
      ]
    },
    {
      "cell_type": "code",
      "metadata": {
        "colab": {
          "base_uri": "https://localhost:8080/"
        },
        "id": "tSG-4iKha2lT",
        "outputId": "1b92378a-048d-4b54-a614-ab752b7ed0a0"
      },
      "source": [
        "# Programa 2.1\n",
        "N=int(input(\"Inserte el numero de veces que el grillo canto por minuto: \"))\n",
        "if N>0:\n",
        "    T=N/4 +40\n",
        "    print(f\"La temperatura es de: {T}° Fahrenheit\")"
      ],
      "execution_count": null,
      "outputs": [
        {
          "output_type": "stream",
          "name": "stdout",
          "text": [
            "Inserte el numero de veces que el grillo canto por minuto: 50\n",
            "La temperatura es de: 52.5° Fahrenheit\n"
          ]
        }
      ]
    },
    {
      "cell_type": "code",
      "metadata": {
        "colab": {
          "base_uri": "https://localhost:8080/"
        },
        "id": "LeMjadP1jZyS",
        "outputId": "04d6c4e1-5552-41b8-8fda-5e282b219301"
      },
      "source": [
        "# Programa 2.2\n",
        "P=int(input(\"Primer valor: \"))\n",
        "Q=int(input(\"Segundo valor: \"))\n",
        "EXP=P**3+Q**4-2*P**2\n",
        "if EXP<680:\n",
        "    print(f\"{P} y {Q} satisfacen la ecuación\")"
      ],
      "execution_count": null,
      "outputs": [
        {
          "output_type": "stream",
          "name": "stdout",
          "text": [
            "Primer valor: 3\n",
            "Segundo valor: 5\n",
            "3 y 5 satisfacen la ecuación\n"
          ]
        }
      ]
    },
    {
      "cell_type": "code",
      "metadata": {
        "colab": {
          "base_uri": "https://localhost:8080/"
        },
        "id": "rMwuJp55nEjT",
        "outputId": "f9d43680-4a20-41a9-d685-bb9e417a7a72"
      },
      "source": [
        "# Programa 2.3\n",
        "A=float(input(\"Dame el valor A de tu ecuación de segundo grado: \"))\n",
        "B=float(input(\"Dame el valor B de tu ecuación de segundo grado: \"))\n",
        "C=float(input(\"Dame el valor C de tu ecuación de segundo grado: \"))\n",
        "DIS=B**2-4*A*C\n",
        "if DIS>=0:\n",
        "    X1=((-B)+DIS**0.5)/(2*A)\n",
        "    X2=((-B)-DIS**0.5)/(2*A)\n",
        "    print(f\"\\nRaices Enteras \\nX1= {round(X1,2)}\\nX2= {round(X2,2)}\")"
      ],
      "execution_count": null,
      "outputs": [
        {
          "name": "stdout",
          "output_type": "stream",
          "text": [
            "Dame el valor A de tu ecuación de segundo grado: -4\n",
            "Dame el valor B de tu ecuación de segundo grado: 5\n",
            "Dame el valor C de tu ecuación de segundo grado: -3\n"
          ]
        }
      ]
    },
    {
      "cell_type": "code",
      "metadata": {
        "colab": {
          "base_uri": "https://localhost:8080/"
        },
        "id": "j936gFJu0YGJ",
        "outputId": "9302421d-ef94-45a4-993c-677a281bd2f6"
      },
      "source": [
        "# Programa 2.4\n",
        "MAT=int(input(\"Ingrese la matricula de estudiante: \"))\n",
        "CAL1=float(input(\"1er calificación: \"))\n",
        "CAL2=float(input(\"2da calificación: \"))\n",
        "CAL3=float(input(\"3er calificación: \"))\n",
        "CAL4=float(input(\"4ta calificación: \"))\n",
        "CAL5=float(input(\"5ta calificación: \"))\n",
        "PRO=(CAL1+CAL2+CAL3+CAL4+CAL5)/5\n",
        "if PRO>=6:\n",
        "    print(f\"\\nMatricula: {MAT}\\nPromedio: {PRO}\\nAPROBADO\")\n",
        "else:\n",
        "    print(f\"\\nMatricula: {MAT}\\nPromedio: {PRO}\\nNO APROBADO\")"
      ],
      "execution_count": null,
      "outputs": [
        {
          "output_type": "stream",
          "name": "stdout",
          "text": [
            "Ingrese la matricula de estudiante: 18250\n",
            "1er calificación: 9\n",
            "2da calificación: 9.25\n",
            "3er calificación: 8.10\n",
            "4ta calificación: 9.80\n",
            "5ta calificación: 10\n",
            "\n",
            "Matricula: 18250\n",
            "Promedio: 9.23\n",
            "APROBADO\n"
          ]
        }
      ]
    },
    {
      "cell_type": "code",
      "metadata": {
        "colab": {
          "base_uri": "https://localhost:8080/"
        },
        "id": "2OcDkG9Z449L",
        "outputId": "108ee40d-8eb7-4a81-f1ff-266829e4d967"
      },
      "source": [
        "# Programa 2.5\n",
        "NUM=int(input(\"Ingrese un numero: \"))\n",
        "if NUM>0:\n",
        "    print(\"POSITIVO\")\n",
        "else:\n",
        "    if NUM==0:\n",
        "        print(\"NULO\")\n",
        "    else:\n",
        "        print(\"NEGATIVO\")\n"
      ],
      "execution_count": null,
      "outputs": [
        {
          "output_type": "stream",
          "name": "stdout",
          "text": [
            "Ingrese un numero: -15\n",
            "NEGATIVO\n"
          ]
        }
      ]
    },
    {
      "cell_type": "code",
      "metadata": {
        "colab": {
          "base_uri": "https://localhost:8080/"
        },
        "id": "jEDWYQxYrr6s",
        "outputId": "e178ca86-838a-4616-ba2a-db4f80e03df3"
      },
      "source": [
        "# Programa 2.6\n",
        "A=int(input(\"Dame un valor: \"))\n",
        "if A==0:\n",
        "    print(\"NULO\")\n",
        "else:\n",
        "    if (-1)**A>0:\n",
        "        print(\"PAR\")\n",
        "    else:\n",
        "        print(\"IMPAR\")"
      ],
      "execution_count": 7,
      "outputs": [
        {
          "output_type": "stream",
          "name": "stdout",
          "text": [
            "Dame un valor: 4\n",
            "PAR\n"
          ]
        }
      ]
    },
    {
      "cell_type": "code",
      "metadata": {
        "colab": {
          "base_uri": "https://localhost:8080/"
        },
        "id": "WCdpFV2EHMaj",
        "outputId": "233e2558-96f1-4f39-8b13-f7cbc34473c4"
      },
      "source": [
        "# Programa 2.7\n",
        "A=int(input(\"Dame un valor: \"))\n",
        "B=int(input(\"Dame otro valor: \"))\n",
        "C=int(input(\"Dame otro valor: \"))\n",
        "if A<B:\n",
        "    if B<C:\n",
        "        print(\"Los numeros estan en orden creciente\")\n",
        "    else:\n",
        "        print(\"Los numeros no estan en orden creciente\")\n",
        "else:\n",
        "    print(\"Los numeros no estan en orden creciente\")"
      ],
      "execution_count": 10,
      "outputs": [
        {
          "output_type": "stream",
          "name": "stdout",
          "text": [
            "Dame un valor: 8\n",
            "Dame otro valor: 7\n",
            "Dame otro valor: 10\n",
            "Los numeros no estan en orden creciente\n"
          ]
        }
      ]
    },
    {
      "cell_type": "code",
      "metadata": {
        "colab": {
          "base_uri": "https://localhost:8080/"
        },
        "id": "DKBEc4hWIQog",
        "outputId": "3ad4efe0-b9f3-42b0-f202-4e127f132bb3"
      },
      "source": [
        "# Programa 2.8\n",
        "COMPRA=float(input(\"¿Cuál es el monto de compra?: \"))\n",
        "if COMPRA<500:\n",
        "    PAGAR=COMPRA\n",
        "else:\n",
        "    if COMPRA<=1000:\n",
        "        PAGAR=COMPRA-(COMPRA*0.05)\n",
        "    else:\n",
        "        if COMPRA<=7000:\n",
        "            PAGAR=COMPRA-(COMPRA*0.11)\n",
        "        else:\n",
        "            if COMPRA<=15000:\n",
        "                PAGAR=COMPRA-(COMPRA*0.18)\n",
        "            else:\n",
        "                PAGAR=COMPRA-(COMPRA*0.25)\n",
        "print(\"Total a pagar: \",round(PAGAR,2))"
      ],
      "execution_count": 23,
      "outputs": [
        {
          "output_type": "stream",
          "name": "stdout",
          "text": [
            "¿Cuál es el monto de compra?: 1318.50\n",
            "Total a pagar:  1173.46\n"
          ]
        }
      ]
    },
    {
      "cell_type": "code",
      "metadata": {
        "colab": {
          "base_uri": "https://localhost:8080/"
        },
        "id": "WxicrHaFIVXp",
        "outputId": "c1c48589-ad8b-49c5-de30-570865d8d46c"
      },
      "source": [
        "# Programa 2.9\n",
        "PREBAS=float(input(\"Precio basico del producto: \"))\n",
        "if PREBAS>500:\n",
        "    IMP=(20*0.30)+((PREBAS-40)*0.50)\n",
        "else:\n",
        "    if PREBAS>40:\n",
        "        IMP=(20*0.30)+((PREBAS-40)*0.40)\n",
        "    else:\n",
        "        if PREBAS>20:\n",
        "            IMP=(20*0.30)+((PREBAS-40)*0.30)\n",
        "        else:\n",
        "            IMP=0\n",
        "\n",
        "PRETOT=PREBAS+IMP\n",
        "print(f\"Precio basico: {PREBAS}\\nPresio Total: {round(PRETOT,2)}\")"
      ],
      "execution_count": 32,
      "outputs": [
        {
          "output_type": "stream",
          "name": "stdout",
          "text": [
            "Precio basico del producto: 217.80\n",
            "Precio basico: 217.8\n",
            "Presio Total: 294.92\n"
          ]
        }
      ]
    },
    {
      "cell_type": "code",
      "metadata": {
        "colab": {
          "base_uri": "https://localhost:8080/"
        },
        "id": "1jOhu_o7IVsy",
        "outputId": "f05410d5-237f-49be-ed0d-d30fe683c33b"
      },
      "source": [
        "# Programa 2.10\n",
        "A=int(input(\"Dame un valor (A): \"))\n",
        "B=int(input(\"Dame otro valor (B): \"))\n",
        "C=int(input(\"Dame otro valor (C): \"))\n",
        "if A>B:\n",
        "    if A>C:\n",
        "        print(\"A es el mayor\")\n",
        "    else:\n",
        "        if A==C:\n",
        "            print(\"A y C son los mayores\")\n",
        "        else:\n",
        "            print(\"C es el mayor\")\n",
        "else:\n",
        "    if A==B:\n",
        "        if A>C:\n",
        "            print(\"A y B son los mayores\")\n",
        "        else:\n",
        "            if A==C:\n",
        "                print(\"A, B y C son iguales\")\n",
        "            else:\n",
        "                print(\"C es el mayor\")\n",
        "    else:\n",
        "        if B>C:\n",
        "            print(\"B es el mayor\")\n",
        "        else:\n",
        "            if B==C:\n",
        "                print(\"B y C son los mayores\")\n",
        "            else:\n",
        "                print(\"C es el mayor\")\n"
      ],
      "execution_count": 40,
      "outputs": [
        {
          "output_type": "stream",
          "name": "stdout",
          "text": [
            "Dame un valor (A): 17\n",
            "Dame otro valor (B): 17\n",
            "Dame otro valor (C): 17\n",
            "A, B y C son iguales\n"
          ]
        }
      ]
    },
    {
      "cell_type": "code",
      "metadata": {
        "colab": {
          "base_uri": "https://localhost:8080/"
        },
        "id": "vAT3fXhXIagt",
        "outputId": "11acd311-4bf8-4d64-fc52-66392a232568"
      },
      "source": [
        "# Programa 2.11\n",
        "Menu=\"\"\"MENU\n",
        "CLAVE - - - ZONA\n",
        "\n",
        "-> 12 - - - América del Norte\n",
        "-> 15 - - - América Central\n",
        "-> 18 - - - América del Sur\n",
        "-> 19 - - - Europa\n",
        "-> 23 - - - Asia\n",
        "-> 25 - - - África\n",
        "-> 29 - - - Oceanía\n",
        "\"\"\"\n",
        "print(Menu)\n",
        "CLAVE=int(input(\"Dame la clave: \"))\n",
        "NUMIM=int(input(\"¿Cuanto duro tu llamada en minutos?: \"))\n",
        "\n",
        "if CLAVE==12:\n",
        "    COST=NUMIM*2\n",
        "elif CLAVE==15:\n",
        "    COST=NUMIM*2.2\n",
        "elif CLAVE==18:\n",
        "    COST=NUMIM*4.5\n",
        "elif CLAVE==19:\n",
        "    COST=NUMIM*3.5\n",
        "elif CLAVE==23 or CLAVE==25:\n",
        "    COST=NUMIM*6\n",
        "elif CLAVE==29:\n",
        "    COST=NUMIM*5\n",
        "\n",
        "print(\"Costo total de la llamada: \",COST)\n"
      ],
      "execution_count": 48,
      "outputs": [
        {
          "output_type": "stream",
          "name": "stdout",
          "text": [
            "MENU\n",
            "CLAVE - - - ZONA\n",
            "\n",
            "-> 12 - - - América del Norte\n",
            "-> 15 - - - América Central\n",
            "-> 18 - - - América del Sur\n",
            "-> 19 - - - Europa\n",
            "-> 23 - - - Asia\n",
            "-> 25 - - - África\n",
            "-> 29 - - - Oceanía\n",
            "\n",
            "Dame la clave: 18\n",
            "¿Cuanto duro tu llamada en minutos?: 12\n",
            "Costo total de la llamada:  54.0\n"
          ]
        }
      ]
    },
    {
      "cell_type": "code",
      "metadata": {
        "colab": {
          "base_uri": "https://localhost:8080/"
        },
        "id": "gYuwhBoNIcCx",
        "outputId": "0c7c810f-23ce-4c8c-de57-e9dee6f51c50"
      },
      "source": [
        "# Programa 2.12\n",
        "SUE=int(input(\"¿Cual es tu sueldo base?: \"))\n",
        "CATE=int(input(\"¿Cual es tu categoria?: \"))\n",
        "HE=int(input(\"¿Cuantas horas extras has trabajado?: \"))\n",
        "if CATE==1:\n",
        "    PHE=30\n",
        "elif CATE==2:\n",
        "    PHE=38\n",
        "elif CATE==3:\n",
        "    PHE=50\n",
        "elif CATE==4:\n",
        "    PHE=70\n",
        "else:\n",
        "    PHE=0\n",
        "\n",
        "if HE>30:\n",
        "    MSUE=SUE+(30*PHE)\n",
        "else:\n",
        "    MSUE=SUE+(HE*PHE)\n",
        "print(\"Tu sueldo de este mes es:\",MSUE)\n"
      ],
      "execution_count": 58,
      "outputs": [
        {
          "output_type": "stream",
          "name": "stdout",
          "text": [
            "¿Cual es tu sueldo base?: 3200\n",
            "¿Cual es tu categoria?: 3\n",
            "¿Cuantas horas extras has trabajado?: 8\n",
            "Tu sueldo de este mes es: 3600\n"
          ]
        }
      ]
    },
    {
      "cell_type": "code",
      "metadata": {
        "colab": {
          "base_uri": "https://localhost:8080/"
        },
        "id": "OWQEpukrIdak",
        "outputId": "4db13037-d58c-4ced-eab5-b3181d625f80"
      },
      "source": [
        "# Programa 2.13\n",
        "MENU=\"\"\" LISTADO DE FALCUTADES MENORES\n",
        "--> Economía\n",
        "--> Computación\n",
        "--> Administración\n",
        "--> Contabilidad\n",
        "\"\"\"\n",
        "print(MENU)\n",
        "MAT=int(input(\"Introduce tu matricula de estudiante: \"))\n",
        "CARR=str(input(\"Escriba la carrera a consultar conforme al listado: \"))\n",
        "SEM=int(input(\"Introduce tu semestre: \"))\n",
        "PROM=float(input(\"Introduce tu promedio actual:\"))\n",
        "\n",
        "if CARR==\"Economía\":\n",
        "    if SEM>=6 and PROM>=8.8:\n",
        "        print(\"\\n\",MAT,CARR,\"Aceptado\")\n",
        "elif CARR==\"Computación\":\n",
        "    if SEM>6 and PROM>8.5:\n",
        "        print(\"\\n\",MAT,CARR,\"Aceptado\")\n",
        "elif CARR==\"Administración\" or CARR==\"Contabilidad\":\n",
        "    if SEM>5 and PROM>8.5:\n",
        "        print(\"\\n\",MAT,CARR,\"Aceptado\")\n"
      ],
      "execution_count": 65,
      "outputs": [
        {
          "name": "stdout",
          "output_type": "stream",
          "text": [
            " LISTADO DE FALCUTADES MENORES\n",
            "--> Economía\n",
            "--> Computación\n",
            "--> Administración\n",
            "--> Contabilidad\n",
            "\n",
            "Introduce tu matricula de estudiante: 26100\n",
            "Escriba la carrera a consultar conforme al listado: Computación\n",
            "Introduce tu semestre: 6\n",
            "Introduce tu promedio actual:9.2\n"
          ]
        }
      ]
    }
  ]
}